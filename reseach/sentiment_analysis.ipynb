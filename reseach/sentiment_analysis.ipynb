{
 "cells": [
  {
   "cell_type": "markdown",
   "id": "29380c9e",
   "metadata": {},
   "source": [
    "## Назначение и цель проекта"
   ]
  },
  {
   "cell_type": "markdown",
   "id": "531f7a3a",
   "metadata": {},
   "source": [
    "Целью проекта является анализ тональности (настроения) отзывов пользователей о приложениях по тематике обучения (education) в магазине приложений AppStore."
   ]
  },
  {
   "cell_type": "markdown",
   "id": "9b437453",
   "metadata": {},
   "source": [
    "## Выполнение проекта"
   ]
  },
  {
   "cell_type": "markdown",
   "id": "08c82b82",
   "metadata": {},
   "source": [
    "### Сбор и сохранение данных для обучения и тестирования модели"
   ]
  },
  {
   "cell_type": "markdown",
   "id": "5371054f",
   "metadata": {},
   "source": [
    "Для сбора отзывов о приложениях (**100** различных) по тематике **education** будут использоваться следующие запросы к ресурсу [itunes.apple.com](https://apps.apple.com/us/genre/ios/id36):\n",
    "\n",
    "- `https://itunes.apple.com/search?term=education&entity=software&limit=100` - поисковой запрос, который позволяет сформировать json-файл на основе параметров:\n",
    "    - **entity** - вид медиа AppStore, например music или books (в данном проекте **software** - приложения);\n",
    "    - **term** - тематика приложений (в данном проекте **education**);\n",
    "    - **limit** - максимальное количество приложений, выдаваемых при запросе (в данном проекте **100**);\n",
    "\n",
    "\n",
    "- `https://itunes.apple.com/us/rss/customerreviews/page={}/id={}/sortby=mostrecent/xml` - запрос, который позволяет сформировать xml-файл на основе параметров:\n",
    "    - **page** - страница запроса (каждая страница содержит максимально 50 отзывов);\n",
    "    - **id** - id приложения, отзывы которого необходимо загрузить;\n",
    "    - **sortby** - сортировка для отзывов (в данном проекте **mostrecent** - самые последние)."
   ]
  },
  {
   "cell_type": "markdown",
   "id": "da6ef986",
   "metadata": {},
   "source": [
    "#### Сбор данных о приложениях"
   ]
  },
  {
   "cell_type": "markdown",
   "id": "a1e71255",
   "metadata": {},
   "source": [
    "Импортируем необходимые модули:"
   ]
  },
  {
   "cell_type": "code",
   "execution_count": 1,
   "id": "1106b59b",
   "metadata": {},
   "outputs": [],
   "source": [
    "from json import loads              # для работы с json-файлами\n",
    "from urllib.request import urlopen  # для открытия URL-адреса"
   ]
  },
  {
   "cell_type": "markdown",
   "id": "46c54177",
   "metadata": {},
   "source": [
    "Соберём данные (**ids** и **names**) о **100** различных приложениях по тематике **education**."
   ]
  },
  {
   "cell_type": "markdown",
   "id": "e911602d",
   "metadata": {},
   "source": [
    "Для этого откроем URL-адрес `https://itunes.apple.com/search?term=education&entity=software&limit=100` с помощью функции `urlopen` модуля `urllib.request` и загрузим данные json-формата в переменную `apps_dict` c помощью функции `loads` модуля `json`:"
   ]
  },
  {
   "cell_type": "code",
   "execution_count": 2,
   "id": "792a7aa6",
   "metadata": {},
   "outputs": [],
   "source": [
    "source = 'https://itunes.apple.com/search?term=education&entity=software&limit=100'\n",
    "with urlopen(source) as url:\n",
    "    apps_dict = loads(url.read().decode())"
   ]
  },
  {
   "cell_type": "markdown",
   "id": "3d0e00e0",
   "metadata": {},
   "source": [
    "В переменную `apps_dict` загрузится словарь вида:\n",
    "\n",
    "```\n",
    "{'resultCount': 5,\n",
    " 'results': [{...}, ..., {...}]}\n",
    "```\n",
    "\n",
    "По ключу `results` станет доступен список из 100 словарей, каждый из которых содержит информацию о конкретном приложении. Информация об **id** и **name** для каждого приложения доступна по ключам `trackId` и `trackName` соответственно:"
   ]
  },
  {
   "cell_type": "code",
   "execution_count": 3,
   "id": "98e3abe9",
   "metadata": {
    "scrolled": true
   },
   "outputs": [
    {
     "name": "stdout",
     "output_type": "stream",
     "text": [
      "570060128\n",
      "Duolingo - Language Lessons\n"
     ]
    }
   ],
   "source": [
    "print(apps_dict['results'][0]['trackId'])    # информация об id первого приложения списка\n",
    "print(apps_dict['results'][0]['trackName'])  # информация о title первого приложения списка"
   ]
  },
  {
   "cell_type": "markdown",
   "id": "3d2fbc2b",
   "metadata": {},
   "source": [
    "Получим кортеж кортежей **ids** и **names** для каждого приложения:"
   ]
  },
  {
   "cell_type": "code",
   "execution_count": 4,
   "id": "cb4a3630",
   "metadata": {},
   "outputs": [
    {
     "name": "stdout",
     "output_type": "stream",
     "text": [
      "(570060128, 'Duolingo - Language Lessons')\n"
     ]
    }
   ],
   "source": [
    "apps = tuple((el['trackId'], el['trackName']) for el in apps_dict['results'])\n",
    "print(apps[0])"
   ]
  },
  {
   "cell_type": "markdown",
   "id": "d1cc8251",
   "metadata": {},
   "source": [
    "#### Создание датасетов для обучения модели и для проверки работы модели"
   ]
  },
  {
   "cell_type": "markdown",
   "id": "69315aa3",
   "metadata": {},
   "source": [
    "Предварительно установим (если не установлены) необходимые модули в виртуальное окружение проекта, используя следующую команду:\n",
    "```\n",
    "pip3 install numpy pandas lxml langdetect spacy sklearn matplotlib\n",
    "```"
   ]
  },
  {
   "cell_type": "markdown",
   "id": "2ae341ea",
   "metadata": {},
   "source": [
    "Импортируем необходимые модули:"
   ]
  },
  {
   "cell_type": "code",
   "execution_count": 5,
   "id": "12e4c477",
   "metadata": {},
   "outputs": [],
   "source": [
    "import numpy as np\n",
    "import pandas as pd"
   ]
  },
  {
   "cell_type": "markdown",
   "id": "cf2d16ac",
   "metadata": {},
   "source": [
    "Сформируем на основе полученной информации два data frames, содержащие отзывы о приложениях:\n",
    "- для обучения модели будет использоваться 2 страница (page=2) отзывов;\n",
    "- для проверки модели будет использоваться 1 страница (page=1) отзывов."
   ]
  },
  {
   "cell_type": "code",
   "execution_count": 23,
   "id": "7ffe8efa",
   "metadata": {},
   "outputs": [],
   "source": [
    "df = pd.DataFrame()        # инициализация DataFrame для обучения модели\n",
    "df_check = pd.DataFrame()  # инициализация DataFrame для проверки модели\n",
    "\n",
    "# цикл по 100 приложениям\n",
    "for app_id, app_name in apps:\n",
    "    \n",
    "    # создание запросов с app_id\n",
    "    url = f'https://itunes.apple.com/us/rss/customerreviews/page=2/id={app_id}/sortby=mostrecent/xml'\n",
    "    url_check = f'https://itunes.apple.com/us/rss/customerreviews/page=1/id={app_id}/sortby=mostrecent/xml'\n",
    "    \n",
    "    # считывание xml-файла в Pandas DataFrame\n",
    "    new_df = pd.read_xml(url, parser='lxml')  # lxml - требуемый парсер\n",
    "    new_df_check = pd.read_xml(url_check, parser='lxml')\n",
    "    \n",
    "    # сохранение только нужных столбцов updated, content, rating\n",
    "    cols = ['updated', 'content', 'rating']\n",
    "    new_df = new_df.reindex(columns=cols)\n",
    "    new_df_check = new_df_check.reindex(columns=cols)\n",
    "    \n",
    "    # и удалениe строк, в которых содержится общая информация \n",
    "    # о документе xml, а не сами обзоры (rating = NaN)\n",
    "    new_df = new_df[new_df['rating'].notna()]\n",
    "    new_df_check = new_df_check[new_df_check['rating'].notna()]\n",
    "    \n",
    "    # добавление столбца с именем приложения app_name\n",
    "    new_df['app_name'] = app_name\n",
    "    new_df_check['app_name'] = app_name\n",
    "    \n",
    "    # сохранение загруженных данных в общий DataFrame\n",
    "    df = pd.concat([df, new_df], ignore_index=True)\n",
    "    df_check = pd.concat([df_check, new_df_check], ignore_index=True)"
   ]
  },
  {
   "cell_type": "code",
   "execution_count": 26,
   "id": "2cdfd27b",
   "metadata": {},
   "outputs": [
    {
     "data": {
      "text/html": [
       "<div>\n",
       "<style scoped>\n",
       "    .dataframe tbody tr th:only-of-type {\n",
       "        vertical-align: middle;\n",
       "    }\n",
       "\n",
       "    .dataframe tbody tr th {\n",
       "        vertical-align: top;\n",
       "    }\n",
       "\n",
       "    .dataframe thead th {\n",
       "        text-align: right;\n",
       "    }\n",
       "</style>\n",
       "<table border=\"1\" class=\"dataframe\">\n",
       "  <thead>\n",
       "    <tr style=\"text-align: right;\">\n",
       "      <th></th>\n",
       "      <th>updated</th>\n",
       "      <th>content</th>\n",
       "      <th>rating</th>\n",
       "      <th>app_name</th>\n",
       "    </tr>\n",
       "  </thead>\n",
       "  <tbody>\n",
       "    <tr>\n",
       "      <th>0</th>\n",
       "      <td>2022-02-28T19:05:27-07:00</td>\n",
       "      <td>&lt;table border=\"0\" width=\"100%\"&gt;\\n    &lt;tr&gt;\\n   ...</td>\n",
       "      <td>1.0</td>\n",
       "      <td>Duolingo - Language Lessons</td>\n",
       "    </tr>\n",
       "    <tr>\n",
       "      <th>1</th>\n",
       "      <td>2022-02-28T18:34:53-07:00</td>\n",
       "      <td>&lt;table border=\"0\" width=\"100%\"&gt;\\n    &lt;tr&gt;\\n   ...</td>\n",
       "      <td>4.0</td>\n",
       "      <td>Duolingo - Language Lessons</td>\n",
       "    </tr>\n",
       "    <tr>\n",
       "      <th>2</th>\n",
       "      <td>2022-02-28T18:09:45-07:00</td>\n",
       "      <td>&lt;table border=\"0\" width=\"100%\"&gt;\\n    &lt;tr&gt;\\n   ...</td>\n",
       "      <td>4.0</td>\n",
       "      <td>Duolingo - Language Lessons</td>\n",
       "    </tr>\n",
       "    <tr>\n",
       "      <th>3</th>\n",
       "      <td>2022-02-28T17:59:14-07:00</td>\n",
       "      <td>&lt;table border=\"0\" width=\"100%\"&gt;\\n    &lt;tr&gt;\\n   ...</td>\n",
       "      <td>3.0</td>\n",
       "      <td>Duolingo - Language Lessons</td>\n",
       "    </tr>\n",
       "    <tr>\n",
       "      <th>4</th>\n",
       "      <td>2022-02-28T16:33:56-07:00</td>\n",
       "      <td>&lt;table border=\"0\" width=\"100%\"&gt;\\n    &lt;tr&gt;\\n   ...</td>\n",
       "      <td>2.0</td>\n",
       "      <td>Duolingo - Language Lessons</td>\n",
       "    </tr>\n",
       "  </tbody>\n",
       "</table>\n",
       "</div>"
      ],
      "text/plain": [
       "                     updated  \\\n",
       "0  2022-02-28T19:05:27-07:00   \n",
       "1  2022-02-28T18:34:53-07:00   \n",
       "2  2022-02-28T18:09:45-07:00   \n",
       "3  2022-02-28T17:59:14-07:00   \n",
       "4  2022-02-28T16:33:56-07:00   \n",
       "\n",
       "                                             content  rating  \\\n",
       "0  <table border=\"0\" width=\"100%\">\\n    <tr>\\n   ...     1.0   \n",
       "1  <table border=\"0\" width=\"100%\">\\n    <tr>\\n   ...     4.0   \n",
       "2  <table border=\"0\" width=\"100%\">\\n    <tr>\\n   ...     4.0   \n",
       "3  <table border=\"0\" width=\"100%\">\\n    <tr>\\n   ...     3.0   \n",
       "4  <table border=\"0\" width=\"100%\">\\n    <tr>\\n   ...     2.0   \n",
       "\n",
       "                      app_name  \n",
       "0  Duolingo - Language Lessons  \n",
       "1  Duolingo - Language Lessons  \n",
       "2  Duolingo - Language Lessons  \n",
       "3  Duolingo - Language Lessons  \n",
       "4  Duolingo - Language Lessons  "
      ]
     },
     "execution_count": 26,
     "metadata": {},
     "output_type": "execute_result"
    }
   ],
   "source": [
    "df.head()"
   ]
  },
  {
   "cell_type": "markdown",
   "id": "9de494fd",
   "metadata": {},
   "source": []
  },
  {
   "cell_type": "code",
   "execution_count": null,
   "id": "c415f698",
   "metadata": {},
   "outputs": [],
   "source": [
    "df['timestamp'] = pd.to_datetime(df['timestamp'])\n",
    "reg = '^.+(\\\\n.*)+\\\"><br\\/>|<\\/font><br\\/>(\\\\n.*)+$'\n",
    "df['content'].replace(reg, '', regex=True, inplace=True)\n",
    "df['content'].head(150)"
   ]
  }
 ],
 "metadata": {
  "kernelspec": {
   "display_name": "sentiment_analysis_venv",
   "language": "python",
   "name": "sentiment_analysis_venv"
  },
  "language_info": {
   "codemirror_mode": {
    "name": "ipython",
    "version": 3
   },
   "file_extension": ".py",
   "mimetype": "text/x-python",
   "name": "python",
   "nbconvert_exporter": "python",
   "pygments_lexer": "ipython3",
   "version": "3.10.0"
  }
 },
 "nbformat": 4,
 "nbformat_minor": 5
}
