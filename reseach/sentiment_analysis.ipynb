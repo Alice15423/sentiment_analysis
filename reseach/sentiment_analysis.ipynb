{
 "cells": [
  {
   "cell_type": "markdown",
   "id": "29380c9e",
   "metadata": {},
   "source": [
    "## Назначение и цель проекта"
   ]
  },
  {
   "cell_type": "markdown",
   "id": "531f7a3a",
   "metadata": {},
   "source": [
    "Целью проекта является анализ тональности (настроения) отзывов пользователей о приложениях по тематике обучения (education) в магазине приложений AppStore."
   ]
  },
  {
   "cell_type": "markdown",
   "id": "9b437453",
   "metadata": {},
   "source": [
    "## Выполнение проекта"
   ]
  },
  {
   "cell_type": "markdown",
   "id": "08c82b82",
   "metadata": {},
   "source": [
    "### Сбор и сохранение данных для обучения и тестирования модели"
   ]
  },
  {
   "cell_type": "markdown",
   "id": "5371054f",
   "metadata": {},
   "source": [
    "Для сбора отзывов о приложениях (**100** различных) по тематике **education** будут использоваться следующие запросы к ресурсу [itunes.apple.com](https://apps.apple.com/us/genre/ios/id36):\n",
    "\n",
    "- `https://itunes.apple.com/search?term=education&entity=software&limit=100` - поисковой запрос, который позволяет сформировать json-файл на основе параметров:\n",
    "    - **entity** - вид медиа AppStore, например music или books (в данном проекте **software** - приложения);\n",
    "    - **term** - тематика приложений (в данном проекте **education**);\n",
    "    - **limit** - максимальное количество приложений, выдаваемых при запросе (в данном проекте **100**);\n",
    "\n",
    "\n",
    "- `https://itunes.apple.com/us/rss/customerreviews/page={}/id={}/sortby=mostrecent/xml` - запрос, который позволяет сформировать xml-файл на основе параметров:\n",
    "    - **page** - страница запроса (каждая страница содержит максимально 50 отзывов);\n",
    "    - **id** - id приложения, отзывы которого необходимо загрузить;\n",
    "    - **sortby** - сортировка для отзывов (в данном проекте **mostrecent** - самые последние)."
   ]
  },
  {
   "cell_type": "markdown",
   "id": "da6ef986",
   "metadata": {},
   "source": [
    "#### Сбор данных о приложениях"
   ]
  },
  {
   "cell_type": "markdown",
   "id": "a1e71255",
   "metadata": {},
   "source": [
    "Импортируем необходимые модули:"
   ]
  },
  {
   "cell_type": "code",
   "execution_count": 1,
   "id": "1106b59b",
   "metadata": {},
   "outputs": [],
   "source": [
    "from json import loads              # для работы с json-файлами\n",
    "from urllib.request import urlopen  # для открытия URL-адреса"
   ]
  },
  {
   "cell_type": "markdown",
   "id": "46c54177",
   "metadata": {},
   "source": [
    "Соберём данные (**ids** и **names**) о **100** различных приложениях по тематике **education**."
   ]
  },
  {
   "cell_type": "markdown",
   "id": "e911602d",
   "metadata": {},
   "source": [
    "Для этого откроем URL-адрес `https://itunes.apple.com/search?term=education&entity=software&limit=100` с помощью функции `urlopen` модуля `urllib.request` и загрузим данные json-формата в переменную `apps_dict` c помощью функции `loads` модуля `json`:"
   ]
  },
  {
   "cell_type": "code",
   "execution_count": 2,
   "id": "792a7aa6",
   "metadata": {},
   "outputs": [],
   "source": [
    "source = 'https://itunes.apple.com/search?term=education&entity=software&limit=100'\n",
    "with urlopen(source) as url:\n",
    "    apps_dict = loads(url.read().decode())"
   ]
  },
  {
   "cell_type": "markdown",
   "id": "3d0e00e0",
   "metadata": {},
   "source": [
    "В переменную `apps_dict` загрузится словарь вида:\n",
    "\n",
    "```\n",
    "{'resultCount': 5,\n",
    " 'results': [{...}, ..., {...}]}\n",
    "```\n",
    "\n",
    "По ключу `results` станет доступен список из 100 словарей, каждый из которых содержит информацию о конкретном приложении. Информация об **id** и **name** для каждого приложения доступна по ключам `trackId` и `trackName` соответственно:"
   ]
  },
  {
   "cell_type": "code",
   "execution_count": 3,
   "id": "98e3abe9",
   "metadata": {
    "scrolled": true
   },
   "outputs": [
    {
     "name": "stdout",
     "output_type": "stream",
     "text": [
      "570060128\n",
      "Duolingo - Language Lessons\n"
     ]
    }
   ],
   "source": [
    "print(apps_dict['results'][0]['trackId'])    # информация об id первого приложения списка\n",
    "print(apps_dict['results'][0]['trackName'])  # информация о title первого приложения списка"
   ]
  },
  {
   "cell_type": "markdown",
   "id": "3d2fbc2b",
   "metadata": {},
   "source": [
    "Получим кортеж кортежей **ids** и **names** для каждого приложения:"
   ]
  },
  {
   "cell_type": "code",
   "execution_count": 4,
   "id": "cb4a3630",
   "metadata": {},
   "outputs": [
    {
     "name": "stdout",
     "output_type": "stream",
     "text": [
      "(570060128, 'Duolingo - Language Lessons')\n"
     ]
    }
   ],
   "source": [
    "apps = tuple((el['trackId'], el['trackName']) for el in apps_dict['results'])\n",
    "print(apps[0])"
   ]
  },
  {
   "cell_type": "markdown",
   "id": "d1cc8251",
   "metadata": {},
   "source": [
    "#### Создание датасетов для обучения модели и для проверки работы модели"
   ]
  },
  {
   "cell_type": "markdown",
   "id": "69315aa3",
   "metadata": {},
   "source": [
    "Предварительно установим (если не установлены) необходимые модули в виртуальное окружение проекта, используя следующую команду:\n",
    "```\n",
    "pip3 install numpy pandas lxml langdetect spacy sklearn matplotlib\n",
    "```"
   ]
  },
  {
   "cell_type": "markdown",
   "id": "2ae341ea",
   "metadata": {},
   "source": [
    "Импортируем необходимые модули:"
   ]
  },
  {
   "cell_type": "code",
   "execution_count": 5,
   "id": "12e4c477",
   "metadata": {},
   "outputs": [],
   "source": [
    "import numpy as np\n",
    "import pandas as pd"
   ]
  },
  {
   "cell_type": "markdown",
   "id": "cf2d16ac",
   "metadata": {},
   "source": [
    "Сформируем на основе полученной информации два data frames, содержащие отзывы о приложениях:\n",
    "- для обучения модели будет использоваться 2 страница (page=2) отзывов;\n",
    "- для проверки модели будет использоваться 1 страница (page=1) отзывов"
   ]
  },
  {
   "cell_type": "code",
   "execution_count": 6,
   "id": "7ffe8efa",
   "metadata": {},
   "outputs": [],
   "source": [
    "df = pd.DataFrame()        # инициализация DataFrame для обучения модели\n",
    "df_check = pd.DataFrame()  # инициализация DataFrame для проверки модели\n",
    "\n",
    "# цикл по 100 приложениям\n",
    "for app_id, app_name in apps:\n",
    "    \n",
    "    # создание запросов с app_id\n",
    "    url = f'https://itunes.apple.com/us/rss/customerreviews/page=2/id={app_id}/sortby=mostrecent/xml'\n",
    "    url_check = f'https://itunes.apple.com/us/rss/customerreviews/page=1/id={app_id}/sortby=mostrecent/xml'\n",
    "    \n",
    "    # считывание xml-файла в Pandas DataFrame\n",
    "    new_df = pd.read_xml(url, parser='lxml')  # lxml - требуемый парсер\n",
    "    new_df_check = pd.read_xml(url_check, parser='lxml')\n",
    "    \n",
    "    # сохранение только нужных столбцов updated, content, rating\n",
    "    cols = ['updated', 'content', 'rating']\n",
    "    new_df = new_df.reindex(columns=cols)\n",
    "    new_df_check = new_df_check.reindex(columns=cols)\n",
    "    \n",
    "    # и удалениe строк, в которых содержится общая информация \n",
    "    # о документе xml, а не сами обзоры (rating = NaN)\n",
    "    new_df = new_df[new_df['rating'].notna()]\n",
    "    new_df_check = new_df_check[new_df_check['rating'].notna()]\n",
    "    \n",
    "    # добавление столбца с именем приложения app_name\n",
    "    new_df['app_name'] = app_name\n",
    "    new_df_check['app_name'] = app_name\n",
    "    \n",
    "    # сохранение загруженных данных в общий DataFrame\n",
    "    df = pd.concat([df, new_df], ignore_index=True)\n",
    "    df_check = pd.concat([df_check, new_df_check], ignore_index=True)"
   ]
  },
  {
   "cell_type": "code",
   "execution_count": 7,
   "id": "2cdfd27b",
   "metadata": {},
   "outputs": [
    {
     "data": {
      "text/html": [
       "<div>\n",
       "<style scoped>\n",
       "    .dataframe tbody tr th:only-of-type {\n",
       "        vertical-align: middle;\n",
       "    }\n",
       "\n",
       "    .dataframe tbody tr th {\n",
       "        vertical-align: top;\n",
       "    }\n",
       "\n",
       "    .dataframe thead th {\n",
       "        text-align: right;\n",
       "    }\n",
       "</style>\n",
       "<table border=\"1\" class=\"dataframe\">\n",
       "  <thead>\n",
       "    <tr style=\"text-align: right;\">\n",
       "      <th></th>\n",
       "      <th>updated</th>\n",
       "      <th>content</th>\n",
       "      <th>rating</th>\n",
       "      <th>app_name</th>\n",
       "    </tr>\n",
       "  </thead>\n",
       "  <tbody>\n",
       "    <tr>\n",
       "      <th>0</th>\n",
       "      <td>2022-03-01T15:48:24-07:00</td>\n",
       "      <td>&lt;table border=\"0\" width=\"100%\"&gt;\\n    &lt;tr&gt;\\n   ...</td>\n",
       "      <td>5.0</td>\n",
       "      <td>Duolingo - Language Lessons</td>\n",
       "    </tr>\n",
       "    <tr>\n",
       "      <th>1</th>\n",
       "      <td>2022-03-01T15:18:11-07:00</td>\n",
       "      <td>&lt;table border=\"0\" width=\"100%\"&gt;\\n    &lt;tr&gt;\\n   ...</td>\n",
       "      <td>5.0</td>\n",
       "      <td>Duolingo - Language Lessons</td>\n",
       "    </tr>\n",
       "    <tr>\n",
       "      <th>2</th>\n",
       "      <td>2022-03-01T15:11:03-07:00</td>\n",
       "      <td>&lt;table border=\"0\" width=\"100%\"&gt;\\n    &lt;tr&gt;\\n   ...</td>\n",
       "      <td>5.0</td>\n",
       "      <td>Duolingo - Language Lessons</td>\n",
       "    </tr>\n",
       "    <tr>\n",
       "      <th>3</th>\n",
       "      <td>2022-03-01T15:02:00-07:00</td>\n",
       "      <td>&lt;table border=\"0\" width=\"100%\"&gt;\\n    &lt;tr&gt;\\n   ...</td>\n",
       "      <td>5.0</td>\n",
       "      <td>Duolingo - Language Lessons</td>\n",
       "    </tr>\n",
       "    <tr>\n",
       "      <th>4</th>\n",
       "      <td>2022-03-01T14:28:12-07:00</td>\n",
       "      <td>&lt;table border=\"0\" width=\"100%\"&gt;\\n    &lt;tr&gt;\\n   ...</td>\n",
       "      <td>1.0</td>\n",
       "      <td>Duolingo - Language Lessons</td>\n",
       "    </tr>\n",
       "  </tbody>\n",
       "</table>\n",
       "</div>"
      ],
      "text/plain": [
       "                     updated  \\\n",
       "0  2022-03-01T15:48:24-07:00   \n",
       "1  2022-03-01T15:18:11-07:00   \n",
       "2  2022-03-01T15:11:03-07:00   \n",
       "3  2022-03-01T15:02:00-07:00   \n",
       "4  2022-03-01T14:28:12-07:00   \n",
       "\n",
       "                                             content  rating  \\\n",
       "0  <table border=\"0\" width=\"100%\">\\n    <tr>\\n   ...     5.0   \n",
       "1  <table border=\"0\" width=\"100%\">\\n    <tr>\\n   ...     5.0   \n",
       "2  <table border=\"0\" width=\"100%\">\\n    <tr>\\n   ...     5.0   \n",
       "3  <table border=\"0\" width=\"100%\">\\n    <tr>\\n   ...     5.0   \n",
       "4  <table border=\"0\" width=\"100%\">\\n    <tr>\\n   ...     1.0   \n",
       "\n",
       "                      app_name  \n",
       "0  Duolingo - Language Lessons  \n",
       "1  Duolingo - Language Lessons  \n",
       "2  Duolingo - Language Lessons  \n",
       "3  Duolingo - Language Lessons  \n",
       "4  Duolingo - Language Lessons  "
      ]
     },
     "execution_count": 7,
     "metadata": {},
     "output_type": "execute_result"
    }
   ],
   "source": [
    "df.head()"
   ]
  },
  {
   "cell_type": "markdown",
   "id": "5a12affc",
   "metadata": {},
   "source": [
    "#### Преобразование и очистка данных"
   ]
  },
  {
   "cell_type": "markdown",
   "id": "9de494fd",
   "metadata": {},
   "source": [
    "В столбце **content** содержится текст отзыва, представленный частью html-документа:"
   ]
  },
  {
   "cell_type": "code",
   "execution_count": 8,
   "id": "77679412",
   "metadata": {},
   "outputs": [
    {
     "data": {
      "text/plain": [
       "'<table border=\"0\" width=\"100%\">\\n    <tr>\\n        <td>\\n            <table border=\"0\" width=\"100%\" cellspacing=\"0\" cellpadding=\"0\">\\n                <tr valign=\"top\" align=\"left\">\\n                    \\n                    \\n                    \\t<td width=\"100%\">\\n                    \\n                        <b><a href=\"https://apps.apple.com/us/app/duolingo-language-lessons/id570060128?uo=2\">Best language App!</a></b><br/>\\n                        \\n                        \\n                        \\n                        \\n\\n                        \\n\\n                       <font size=\"2\" face=\"Helvetica,Arial,Geneva,Swiss,SunSans-Regular\">\\n\\t\\t\\t\\t\\t\\t\\n                        </font>\\n                    </td>\\n                </tr>\\n            </table>\\n        </td>\\n    </tr>\\n    <tr>\\n        <td>\\n            \\n                <font size=\"2\" face=\"Helvetica,Arial,Geneva,Swiss,SunSans-Regular\"><br/>It’s fun, interactive, and all around educational while learning more than expected! I start my day with my little green owl and add a lesson or two before heading to bed!</font><br/>\\n            \\n            \\n            \\n        </td>\\n    </tr>\\n</table>'"
      ]
     },
     "execution_count": 8,
     "metadata": {},
     "output_type": "execute_result"
    }
   ],
   "source": [
    "text = df['content'][0]\n",
    "text"
   ]
  },
  {
   "cell_type": "markdown",
   "id": "5335c3e4",
   "metadata": {},
   "source": [
    "Для извлечения текстa из отзыва, необходимо обратиться к элементу по пути ***table -> tr -> td -> font -> текст***:\n",
    "```\n",
    "<table border=\"0\" width=\"100%\">\n",
    "...\n",
    "    <tr>\n",
    "        <td>\n",
    "            <font size=\"2\" face=\"Helvetica,Arial,Geneva,Swiss,SunSans-Regular\">\n",
    "                <br/>It’s fun, interactive, and all around educational while learning more than expected! I start my day with my little green owl and add a lesson or two before heading to bed!\n",
    "            </font><br/>\n",
    "        </td>\n",
    "    </tr>\n",
    "</table>\n",
    "```"
   ]
  },
  {
   "cell_type": "markdown",
   "id": "c8943866",
   "metadata": {},
   "source": [
    "Воспользуемся функцией `fromstring()` модуля `lxml.html`, которая преобразует входную строку в дерево элементов. Из полученного дерева с помощью метода `xpath` извлечем элементы `text()` и зпишем их в пременную `list_lxml`:"
   ]
  },
  {
   "cell_type": "code",
   "execution_count": 9,
   "id": "dabacfbd",
   "metadata": {},
   "outputs": [
    {
     "data": {
      "text/plain": [
       "['\\n\\t\\t\\t\\t\\t\\t\\n                        ',\n",
       " 'It’s fun, interactive, and all around educational while learning more than expected! I start my day with my little green owl and add a lesson or two before heading to bed!']"
      ]
     },
     "execution_count": 9,
     "metadata": {},
     "output_type": "execute_result"
    }
   ],
   "source": [
    "from lxml import html\n",
    "\n",
    "# преобразование текста в дерево элементов\n",
    "tree = html.fromstring(text)\n",
    "\n",
    "# доступ к необходимым элементам через xpath\n",
    "list_lxml = tree.xpath('//table/tr/td/font/text()')\n",
    "\n",
    "list_lxml"
   ]
  },
  {
   "cell_type": "markdown",
   "id": "266d5ace",
   "metadata": {},
   "source": [
    "Переменная `list_lxml` имеет тип `list` и содержит текстовые элементы, которые нам нужны. Первый элемент `\\n\\t\\t\\t\\t\\t\\t\\n` является лишним, поэтому им можно пренебречь. Из оставшихся элементов с помощью строкового метода `join()` будет создана одна строка с отзывом:"
   ]
  },
  {
   "cell_type": "code",
   "execution_count": 10,
   "id": "78949b08",
   "metadata": {},
   "outputs": [
    {
     "name": "stdout",
     "output_type": "stream",
     "text": [
      "It’s fun, interactive, and all around educational while learning more than expected! I start my day with my little green owl and add a lesson or two before heading to bed!\n"
     ]
    }
   ],
   "source": [
    "print(''.join(list_lxml[1:]))"
   ]
  },
  {
   "cell_type": "markdown",
   "id": "8e477b7a",
   "metadata": {},
   "source": [
    "Для изменения всего столбца **content** создадим функцию, которая будет преобразовывать текст к нужной форме, и воспользуемся методом `apply` для применения этой функции к столбцу **content**:"
   ]
  },
  {
   "cell_type": "code",
   "execution_count": 11,
   "id": "faf5edab",
   "metadata": {},
   "outputs": [],
   "source": [
    "def get_content(text):\n",
    "    return ''.join(\n",
    "        html.fromstring(text).xpath('//table/tr/td/font/text()')[1:]\n",
    "    )"
   ]
  },
  {
   "cell_type": "code",
   "execution_count": 12,
   "id": "3ce30f9c",
   "metadata": {},
   "outputs": [
    {
     "data": {
      "text/html": [
       "<div>\n",
       "<style scoped>\n",
       "    .dataframe tbody tr th:only-of-type {\n",
       "        vertical-align: middle;\n",
       "    }\n",
       "\n",
       "    .dataframe tbody tr th {\n",
       "        vertical-align: top;\n",
       "    }\n",
       "\n",
       "    .dataframe thead th {\n",
       "        text-align: right;\n",
       "    }\n",
       "</style>\n",
       "<table border=\"1\" class=\"dataframe\">\n",
       "  <thead>\n",
       "    <tr style=\"text-align: right;\">\n",
       "      <th></th>\n",
       "      <th>updated</th>\n",
       "      <th>content</th>\n",
       "      <th>rating</th>\n",
       "      <th>app_name</th>\n",
       "    </tr>\n",
       "  </thead>\n",
       "  <tbody>\n",
       "    <tr>\n",
       "      <th>0</th>\n",
       "      <td>2022-03-01T15:48:24-07:00</td>\n",
       "      <td>It’s fun, interactive, and all around educatio...</td>\n",
       "      <td>5.0</td>\n",
       "      <td>Duolingo - Language Lessons</td>\n",
       "    </tr>\n",
       "    <tr>\n",
       "      <th>1</th>\n",
       "      <td>2022-03-01T15:18:11-07:00</td>\n",
       "      <td>Because of Duolingo, I can speak simple senten...</td>\n",
       "      <td>5.0</td>\n",
       "      <td>Duolingo - Language Lessons</td>\n",
       "    </tr>\n",
       "    <tr>\n",
       "      <th>2</th>\n",
       "      <td>2022-03-01T15:11:03-07:00</td>\n",
       "      <td>Duolingo is s great if you have a short time t...</td>\n",
       "      <td>5.0</td>\n",
       "      <td>Duolingo - Language Lessons</td>\n",
       "    </tr>\n",
       "    <tr>\n",
       "      <th>3</th>\n",
       "      <td>2022-03-01T15:02:00-07:00</td>\n",
       "      <td>This app has carried my further than any of my...</td>\n",
       "      <td>5.0</td>\n",
       "      <td>Duolingo - Language Lessons</td>\n",
       "    </tr>\n",
       "    <tr>\n",
       "      <th>4</th>\n",
       "      <td>2022-03-01T14:28:12-07:00</td>\n",
       "      <td>Update it so you don’t have to sign in so you ...</td>\n",
       "      <td>1.0</td>\n",
       "      <td>Duolingo - Language Lessons</td>\n",
       "    </tr>\n",
       "  </tbody>\n",
       "</table>\n",
       "</div>"
      ],
      "text/plain": [
       "                     updated  \\\n",
       "0  2022-03-01T15:48:24-07:00   \n",
       "1  2022-03-01T15:18:11-07:00   \n",
       "2  2022-03-01T15:11:03-07:00   \n",
       "3  2022-03-01T15:02:00-07:00   \n",
       "4  2022-03-01T14:28:12-07:00   \n",
       "\n",
       "                                             content  rating  \\\n",
       "0  It’s fun, interactive, and all around educatio...     5.0   \n",
       "1  Because of Duolingo, I can speak simple senten...     5.0   \n",
       "2  Duolingo is s great if you have a short time t...     5.0   \n",
       "3  This app has carried my further than any of my...     5.0   \n",
       "4  Update it so you don’t have to sign in so you ...     1.0   \n",
       "\n",
       "                      app_name  \n",
       "0  Duolingo - Language Lessons  \n",
       "1  Duolingo - Language Lessons  \n",
       "2  Duolingo - Language Lessons  \n",
       "3  Duolingo - Language Lessons  \n",
       "4  Duolingo - Language Lessons  "
      ]
     },
     "execution_count": 12,
     "metadata": {},
     "output_type": "execute_result"
    }
   ],
   "source": [
    "df['content'] = df['content'].apply(get_content)\n",
    "df.head()"
   ]
  },
  {
   "cell_type": "code",
   "execution_count": 13,
   "id": "7cd163b4",
   "metadata": {},
   "outputs": [
    {
     "data": {
      "text/html": [
       "<div>\n",
       "<style scoped>\n",
       "    .dataframe tbody tr th:only-of-type {\n",
       "        vertical-align: middle;\n",
       "    }\n",
       "\n",
       "    .dataframe tbody tr th {\n",
       "        vertical-align: top;\n",
       "    }\n",
       "\n",
       "    .dataframe thead th {\n",
       "        text-align: right;\n",
       "    }\n",
       "</style>\n",
       "<table border=\"1\" class=\"dataframe\">\n",
       "  <thead>\n",
       "    <tr style=\"text-align: right;\">\n",
       "      <th></th>\n",
       "      <th>updated</th>\n",
       "      <th>content</th>\n",
       "      <th>rating</th>\n",
       "      <th>app_name</th>\n",
       "    </tr>\n",
       "  </thead>\n",
       "  <tbody>\n",
       "    <tr>\n",
       "      <th>0</th>\n",
       "      <td>2022-03-02T21:39:53-07:00</td>\n",
       "      <td>You cannot access your lessons offline.</td>\n",
       "      <td>1.0</td>\n",
       "      <td>Duolingo - Language Lessons</td>\n",
       "    </tr>\n",
       "    <tr>\n",
       "      <th>1</th>\n",
       "      <td>2022-03-02T20:30:33-07:00</td>\n",
       "      <td>So I was doing a lightning round and all it’s ...</td>\n",
       "      <td>1.0</td>\n",
       "      <td>Duolingo - Language Lessons</td>\n",
       "    </tr>\n",
       "    <tr>\n",
       "      <th>2</th>\n",
       "      <td>2022-03-02T19:48:02-07:00</td>\n",
       "      <td>Duolingo has helped me greatly improve my Span...</td>\n",
       "      <td>4.0</td>\n",
       "      <td>Duolingo - Language Lessons</td>\n",
       "    </tr>\n",
       "    <tr>\n",
       "      <th>3</th>\n",
       "      <td>2022-03-02T19:43:33-07:00</td>\n",
       "      <td>Given that I am I a fluent English speaker and...</td>\n",
       "      <td>1.0</td>\n",
       "      <td>Duolingo - Language Lessons</td>\n",
       "    </tr>\n",
       "    <tr>\n",
       "      <th>4</th>\n",
       "      <td>2022-03-02T19:41:53-07:00</td>\n",
       "      <td>It’s a clever well thought teaching app It tea...</td>\n",
       "      <td>5.0</td>\n",
       "      <td>Duolingo - Language Lessons</td>\n",
       "    </tr>\n",
       "  </tbody>\n",
       "</table>\n",
       "</div>"
      ],
      "text/plain": [
       "                     updated  \\\n",
       "0  2022-03-02T21:39:53-07:00   \n",
       "1  2022-03-02T20:30:33-07:00   \n",
       "2  2022-03-02T19:48:02-07:00   \n",
       "3  2022-03-02T19:43:33-07:00   \n",
       "4  2022-03-02T19:41:53-07:00   \n",
       "\n",
       "                                             content  rating  \\\n",
       "0            You cannot access your lessons offline.     1.0   \n",
       "1  So I was doing a lightning round and all it’s ...     1.0   \n",
       "2  Duolingo has helped me greatly improve my Span...     4.0   \n",
       "3  Given that I am I a fluent English speaker and...     1.0   \n",
       "4  It’s a clever well thought teaching app It tea...     5.0   \n",
       "\n",
       "                      app_name  \n",
       "0  Duolingo - Language Lessons  \n",
       "1  Duolingo - Language Lessons  \n",
       "2  Duolingo - Language Lessons  \n",
       "3  Duolingo - Language Lessons  \n",
       "4  Duolingo - Language Lessons  "
      ]
     },
     "execution_count": 13,
     "metadata": {},
     "output_type": "execute_result"
    }
   ],
   "source": [
    "df_check['content'] = df_check['content'].apply(get_content)\n",
    "df_check.head()"
   ]
  },
  {
   "cell_type": "markdown",
   "id": "b1ad53e0",
   "metadata": {},
   "source": [
    "Проанализируем столбцы таблиц. Для этого воспользуемся методом `info()`:"
   ]
  },
  {
   "cell_type": "code",
   "execution_count": 14,
   "id": "a05ab46a",
   "metadata": {},
   "outputs": [
    {
     "name": "stdout",
     "output_type": "stream",
     "text": [
      "<class 'pandas.core.frame.DataFrame'>\n",
      "RangeIndex: 4900 entries, 0 to 4899\n",
      "Data columns (total 4 columns):\n",
      " #   Column    Non-Null Count  Dtype  \n",
      "---  ------    --------------  -----  \n",
      " 0   updated   4900 non-null   object \n",
      " 1   content   4900 non-null   object \n",
      " 2   rating    4900 non-null   float64\n",
      " 3   app_name  4900 non-null   object \n",
      "dtypes: float64(1), object(3)\n",
      "memory usage: 153.2+ KB\n"
     ]
    }
   ],
   "source": [
    "df.info()"
   ]
  },
  {
   "cell_type": "markdown",
   "id": "60961942",
   "metadata": {},
   "source": [
    "Информация о таблице показывает, что у нас нет столбцов, в которых бы содержались пустые значения. Значит таблице полная."
   ]
  },
  {
   "cell_type": "markdown",
   "id": "5e7c6374",
   "metadata": {},
   "source": [
    "Также информация показала, что в столбце **updated** содержатся элементы типа **object** - строки. Преобразуем данные столбца **updated** в типа **datetime**, используя функцию `to_datetime`:"
   ]
  },
  {
   "cell_type": "code",
   "execution_count": 15,
   "id": "83e3a00f",
   "metadata": {},
   "outputs": [
    {
     "name": "stdout",
     "output_type": "stream",
     "text": [
      "<class 'pandas.core.frame.DataFrame'>\n",
      "RangeIndex: 4900 entries, 0 to 4899\n",
      "Data columns (total 4 columns):\n",
      " #   Column    Non-Null Count  Dtype                                 \n",
      "---  ------    --------------  -----                                 \n",
      " 0   updated   4900 non-null   datetime64[ns, pytz.FixedOffset(-420)]\n",
      " 1   content   4900 non-null   object                                \n",
      " 2   rating    4900 non-null   float64                               \n",
      " 3   app_name  4900 non-null   object                                \n",
      "dtypes: datetime64[ns, pytz.FixedOffset(-420)](1), float64(1), object(2)\n",
      "memory usage: 153.2+ KB\n"
     ]
    }
   ],
   "source": [
    "df['updated'] = pd.to_datetime(df['updated'])\n",
    "df_check['updated'] = pd.to_datetime(df_check['updated'])\n",
    "df.info()"
   ]
  },
  {
   "cell_type": "markdown",
   "id": "5f3b216f",
   "metadata": {},
   "source": [
    "Просмотрим данные в столбце **content** для нахождения возможных некорректных значений (некоректными данными могут являться комментарии не на английском или небуквенные символы, относящиеся к смайлам или чему-либо еще)."
   ]
  },
  {
   "cell_type": "code",
   "execution_count": 16,
   "id": "089c5317",
   "metadata": {},
   "outputs": [
    {
     "data": {
      "text/plain": [
       "'我希望同步的速度可以更快点，像聊天工具那样就好了'"
      ]
     },
     "execution_count": 16,
     "metadata": {},
     "output_type": "execute_result"
    }
   ],
   "source": [
    "text_not_en = df_check['content'][710]\n",
    "text_not_en"
   ]
  },
  {
   "cell_type": "code",
   "execution_count": 17,
   "id": "71784159",
   "metadata": {},
   "outputs": [
    {
     "data": {
      "text/plain": [
       "'I learned Spanish within a week. Spanish or Vanish🤷🏻\\u200d♀️'"
      ]
     },
     "execution_count": 17,
     "metadata": {},
     "output_type": "execute_result"
    }
   ],
   "source": [
    "text_smile = df['content'][35]\n",
    "text_smile"
   ]
  },
  {
   "cell_type": "markdown",
   "id": "ba4301e1",
   "metadata": {},
   "source": [
    "Анализ столбца **content** показал, что иногда встречаются отзывы не на английском языке или отзывы, содержащие смайлики. Они могут помешать обучению, поэтому необходимо:\n",
    "1. удалить отзывы не на английском языке;\n",
    "1. удалить смайлы в отзывах."
   ]
  },
  {
   "cell_type": "markdown",
   "id": "9844edc0",
   "metadata": {},
   "source": [
    "Для удаления отзывов, написанных не на английском языке, воспользуемся функцией `detect` модуля `langdetect`:"
   ]
  },
  {
   "cell_type": "code",
   "execution_count": 18,
   "id": "c415f698",
   "metadata": {},
   "outputs": [
    {
     "data": {
      "text/plain": [
       "False"
      ]
     },
     "execution_count": 18,
     "metadata": {},
     "output_type": "execute_result"
    }
   ],
   "source": [
    "from langdetect import detect\n",
    "\n",
    "detect(text_not_en) == 'en'"
   ]
  },
  {
   "cell_type": "markdown",
   "id": "ace41ecf",
   "metadata": {},
   "source": [
    "Для удаления всех строк, содержащих отзывы не на английском языке создадим функцию, которая будет проверять язык текста, и воспользуемся методом apply для применения этой функции к столбцу **content** с последующей фильтрацией всей таблицы:"
   ]
  },
  {
   "cell_type": "code",
   "execution_count": 19,
   "id": "b0769eef",
   "metadata": {},
   "outputs": [],
   "source": [
    "from langdetect import detect\n",
    "\n",
    "def is_en(text):\n",
    "    try:\n",
    "        return detect(text) == 'en'\n",
    "    except:\n",
    "        return False"
   ]
  },
  {
   "cell_type": "code",
   "execution_count": 20,
   "id": "f6269bcc",
   "metadata": {},
   "outputs": [
    {
     "name": "stdout",
     "output_type": "stream",
     "text": [
      "4900\n",
      "4919\n"
     ]
    }
   ],
   "source": [
    "print(df.shape[0])\n",
    "print(df_check.shape[0])"
   ]
  },
  {
   "cell_type": "code",
   "execution_count": 21,
   "id": "9368d11e",
   "metadata": {},
   "outputs": [
    {
     "data": {
      "text/plain": [
       "4484"
      ]
     },
     "execution_count": 21,
     "metadata": {},
     "output_type": "execute_result"
    }
   ],
   "source": [
    "df = df[df['content'].apply(is_en)]\n",
    "df.shape[0]"
   ]
  },
  {
   "cell_type": "code",
   "execution_count": 22,
   "id": "6bdbbee2",
   "metadata": {},
   "outputs": [
    {
     "data": {
      "text/plain": [
       "4492"
      ]
     },
     "execution_count": 22,
     "metadata": {},
     "output_type": "execute_result"
    }
   ],
   "source": [
    "df_check = df_check[df_check['content'].apply(is_en)]\n",
    "df_check.shape[0]"
   ]
  },
  {
   "cell_type": "markdown",
   "id": "45f91a65",
   "metadata": {},
   "source": [
    "Как видно выше, язык примерно 8% отзывов оказался не английский."
   ]
  },
  {
   "cell_type": "markdown",
   "id": "f73b1212",
   "metadata": {},
   "source": [
    "Для удаления смайлов в отзывах воспользуемся функцией `compile` модуля `re` для компиляции регулярного выражения, включающее возможные смайлики. Для применения регулярного выражения используем метод `replace`, который заменит все смайлы на пустые значения:"
   ]
  },
  {
   "cell_type": "code",
   "execution_count": 26,
   "id": "e03f87cb",
   "metadata": {},
   "outputs": [],
   "source": [
    "import re\n",
    "\n",
    "# создание регулярного выражения со смайлами\n",
    "emoticons_reg = re.compile(\"[\"\n",
    "    u\"\\U0001F600-\\U0001F64F\"\n",
    "    u\"\\U0001F300-\\U0001F5FF\"\n",
    "    u\"\\U0001F680-\\U0001F6FF\"\n",
    "    u\"\\U0001F1E0-\\U0001F1FF\"\n",
    "    u\"\\U00002500-\\U00002BEF\"\n",
    "    u\"\\U00002702-\\U000027B0\"\n",
    "    u\"\\U00002702-\\U000027B0\"\n",
    "    u\"\\U000024C2-\\U0001F251\"\n",
    "    u\"\\U0001f926-\\U0001f937\"\n",
    "    u\"\\U00010000-\\U0010ffff\"\n",
    "    u\"\\u2640-\\u2642\"\n",
    "    u\"\\u2600-\\u2B55\"\n",
    "    u\"\\u200d\"\n",
    "    u\"\\u23cf\"\n",
    "    u\"\\u23e9\"\n",
    "    u\"\\u231a\"\n",
    "    u\"\\ufe0f\"\n",
    "    u\"\\u3030\"\n",
    "    \"]+\", flags=re.UNICODE)"
   ]
  },
  {
   "cell_type": "code",
   "execution_count": 28,
   "id": "bd540469",
   "metadata": {},
   "outputs": [
    {
     "data": {
      "text/plain": [
       "'I learned Spanish within a week. Spanish or Vanish'"
      ]
     },
     "execution_count": 28,
     "metadata": {},
     "output_type": "execute_result"
    }
   ],
   "source": [
    "df['content'].replace(emoticons_reg, '', regex=True, inplace=True)\n",
    "df_check['content'].replace(emoticons_reg, '', regex=True, inplace=True)\n",
    "df['content'][35]"
   ]
  },
  {
   "cell_type": "markdown",
   "id": "35e649e7",
   "metadata": {},
   "source": [
    "Сохраним полученные таблицы:"
   ]
  },
  {
   "cell_type": "code",
   "execution_count": 46,
   "id": "7f2d8679",
   "metadata": {},
   "outputs": [],
   "source": [
    "# перестановка метами двух последних столбцов, чтобы rating оказался в самом конце\n",
    "df = df[['updated', 'content', 'app_name', 'rating']]\n",
    "df_check = df_check[['updated', 'content', 'app_name', 'rating']]\n",
    "\n",
    "df.to_csv('datasets/train/reviews_train.csv', sep='|', index=False)\n",
    "df_check.to_csv('datasets/check/reviews_check.csv', sep='|', index=False)"
   ]
  },
  {
   "cell_type": "markdown",
   "id": "15a31af5",
   "metadata": {},
   "source": [
    "#### Анализ данных и подготовка данных к обучению"
   ]
  },
  {
   "cell_type": "markdown",
   "id": "31272f59",
   "metadata": {},
   "source": [
    "Загрузим данные из сохраненного csv-файла:"
   ]
  },
  {
   "cell_type": "code",
   "execution_count": 49,
   "id": "0886df34",
   "metadata": {},
   "outputs": [
    {
     "data": {
      "text/html": [
       "<div>\n",
       "<style scoped>\n",
       "    .dataframe tbody tr th:only-of-type {\n",
       "        vertical-align: middle;\n",
       "    }\n",
       "\n",
       "    .dataframe tbody tr th {\n",
       "        vertical-align: top;\n",
       "    }\n",
       "\n",
       "    .dataframe thead th {\n",
       "        text-align: right;\n",
       "    }\n",
       "</style>\n",
       "<table border=\"1\" class=\"dataframe\">\n",
       "  <thead>\n",
       "    <tr style=\"text-align: right;\">\n",
       "      <th></th>\n",
       "      <th>updated</th>\n",
       "      <th>content</th>\n",
       "      <th>app_name</th>\n",
       "      <th>rating</th>\n",
       "    </tr>\n",
       "  </thead>\n",
       "  <tbody>\n",
       "    <tr>\n",
       "      <th>0</th>\n",
       "      <td>2022-03-01 15:48:24-07:00</td>\n",
       "      <td>It’s fun, interactive, and all around educatio...</td>\n",
       "      <td>Duolingo - Language Lessons</td>\n",
       "      <td>5.0</td>\n",
       "    </tr>\n",
       "    <tr>\n",
       "      <th>1</th>\n",
       "      <td>2022-03-01 15:18:11-07:00</td>\n",
       "      <td>Because of Duolingo, I can speak simple senten...</td>\n",
       "      <td>Duolingo - Language Lessons</td>\n",
       "      <td>5.0</td>\n",
       "    </tr>\n",
       "    <tr>\n",
       "      <th>2</th>\n",
       "      <td>2022-03-01 15:11:03-07:00</td>\n",
       "      <td>Duolingo is s great if you have a short time t...</td>\n",
       "      <td>Duolingo - Language Lessons</td>\n",
       "      <td>5.0</td>\n",
       "    </tr>\n",
       "    <tr>\n",
       "      <th>3</th>\n",
       "      <td>2022-03-01 15:02:00-07:00</td>\n",
       "      <td>This app has carried my further than any of my...</td>\n",
       "      <td>Duolingo - Language Lessons</td>\n",
       "      <td>5.0</td>\n",
       "    </tr>\n",
       "    <tr>\n",
       "      <th>4</th>\n",
       "      <td>2022-03-01 14:28:12-07:00</td>\n",
       "      <td>Update it so you don’t have to sign in so you ...</td>\n",
       "      <td>Duolingo - Language Lessons</td>\n",
       "      <td>1.0</td>\n",
       "    </tr>\n",
       "  </tbody>\n",
       "</table>\n",
       "</div>"
      ],
      "text/plain": [
       "                     updated  \\\n",
       "0  2022-03-01 15:48:24-07:00   \n",
       "1  2022-03-01 15:18:11-07:00   \n",
       "2  2022-03-01 15:11:03-07:00   \n",
       "3  2022-03-01 15:02:00-07:00   \n",
       "4  2022-03-01 14:28:12-07:00   \n",
       "\n",
       "                                             content  \\\n",
       "0  It’s fun, interactive, and all around educatio...   \n",
       "1  Because of Duolingo, I can speak simple senten...   \n",
       "2  Duolingo is s great if you have a short time t...   \n",
       "3  This app has carried my further than any of my...   \n",
       "4  Update it so you don’t have to sign in so you ...   \n",
       "\n",
       "                      app_name  rating  \n",
       "0  Duolingo - Language Lessons     5.0  \n",
       "1  Duolingo - Language Lessons     5.0  \n",
       "2  Duolingo - Language Lessons     5.0  \n",
       "3  Duolingo - Language Lessons     5.0  \n",
       "4  Duolingo - Language Lessons     1.0  "
      ]
     },
     "execution_count": 49,
     "metadata": {},
     "output_type": "execute_result"
    }
   ],
   "source": [
    "df = pd.read_csv('datasets/train/reviews_train.csv', sep='|')\n",
    "df.head()"
   ]
  },
  {
   "cell_type": "markdown",
   "id": "7c153be6",
   "metadata": {},
   "source": [
    "Для обучения столбец **rating** является целевым признаком. Посмотрим на него подробнее с помощью графического представления, используя"
   ]
  },
  {
   "cell_type": "code",
   "execution_count": 48,
   "id": "d4043816",
   "metadata": {},
   "outputs": [
    {
     "data": {
      "text/plain": [
       "5.0    1970\n",
       "1.0    1277\n",
       "4.0     484\n",
       "3.0     406\n",
       "2.0     347\n",
       "Name: rating, dtype: int64"
      ]
     },
     "execution_count": 48,
     "metadata": {},
     "output_type": "execute_result"
    }
   ],
   "source": [
    "df.rating.value_counts()  # 2454 - 5.0 и 4.0, 2030 - 1.0, 2.0 и 3.0"
   ]
  },
  {
   "cell_type": "code",
   "execution_count": 40,
   "id": "14b24a2e",
   "metadata": {},
   "outputs": [
    {
     "data": {
      "text/plain": [
       "38"
      ]
     },
     "execution_count": 40,
     "metadata": {},
     "output_type": "execute_result"
    }
   ],
   "source": [
    "df.app_name.value_counts().min()"
   ]
  },
  {
   "cell_type": "code",
   "execution_count": null,
   "id": "c3f4a626",
   "metadata": {},
   "outputs": [],
   "source": []
  }
 ],
 "metadata": {
  "kernelspec": {
   "display_name": "sentiment_analysis_venv",
   "language": "python",
   "name": "sentiment_analysis_venv"
  },
  "language_info": {
   "codemirror_mode": {
    "name": "ipython",
    "version": 3
   },
   "file_extension": ".py",
   "mimetype": "text/x-python",
   "name": "python",
   "nbconvert_exporter": "python",
   "pygments_lexer": "ipython3",
   "version": "3.10.0"
  }
 },
 "nbformat": 4,
 "nbformat_minor": 5
}
