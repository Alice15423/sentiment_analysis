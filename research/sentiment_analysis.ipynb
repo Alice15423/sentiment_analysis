{
 "cells": [
  {
   "cell_type": "markdown",
   "id": "29380c9e",
   "metadata": {},
   "source": [
    "## Назначение и цель проекта"
   ]
  },
  {
   "cell_type": "markdown",
   "id": "531f7a3a",
   "metadata": {},
   "source": [
    "Целью проекта является анализ тональности (настроения) отзывов пользователей о приложениях по тематике обучения (education) в магазине приложений AppStore."
   ]
  },
  {
   "cell_type": "markdown",
   "id": "9b437453",
   "metadata": {},
   "source": [
    "## Выполнение проекта"
   ]
  },
  {
   "cell_type": "markdown",
   "id": "08c82b82",
   "metadata": {},
   "source": [
    "### Сбор и сохранение данных для обучения и тестирования модели"
   ]
  },
  {
   "cell_type": "markdown",
   "id": "5371054f",
   "metadata": {},
   "source": [
    "Для сбора отзывов о приложениях (**100** различных) по тематике **education** будут использоваться следующие запросы к ресурсу [itunes.apple.com](https://apps.apple.com/us/genre/ios/id36):\n",
    "\n",
    "- `https://itunes.apple.com/search?term=education&entity=software&limit=100` - поисковой запрос, который позволяет сформировать json-файл на основе параметров:\n",
    "    - **entity** - вид медиа AppStore, например music или books (в данном проекте **software** - приложения);\n",
    "    - **term** - тематика приложений (в данном проекте **education**);\n",
    "    - **limit** - максимальное количество приложений, выдаваемых при запросе (в данном проекте **100**);\n",
    "\n",
    "\n",
    "- `https://itunes.apple.com/us/rss/customerreviews/page={}/id={}/sortby=mostrecent/xml` - запрос, который позволяет сформировать xml-файл на основе параметров:\n",
    "    - **page** - страница запроса (каждая страница содержит максимально 50 отзывов);\n",
    "    - **id** - id приложения, отзывы которого необходимо загрузить;\n",
    "    - **sortby** - сортировка для отзывов (в данном проекте **mostrecent** - самые последние)."
   ]
  },
  {
   "cell_type": "markdown",
   "id": "da6ef986",
   "metadata": {},
   "source": [
    "#### Сбор данных о приложениях"
   ]
  },
  {
   "cell_type": "markdown",
   "id": "a1e71255",
   "metadata": {},
   "source": [
    "Импортируем необходимые модули:"
   ]
  },
  {
   "cell_type": "code",
   "execution_count": 1,
   "id": "1106b59b",
   "metadata": {},
   "outputs": [],
   "source": [
    "from json import loads              # для работы с json-файлами\n",
    "from urllib.request import urlopen  # для открытия URL-адреса"
   ]
  },
  {
   "cell_type": "markdown",
   "id": "46c54177",
   "metadata": {},
   "source": [
    "Соберём данные (**ids** и **names**) о **100** различных приложениях по тематике **education**."
   ]
  },
  {
   "cell_type": "markdown",
   "id": "e911602d",
   "metadata": {},
   "source": [
    "Для этого откроем URL-адрес `https://itunes.apple.com/search?term=education&entity=software&limit=100` с помощью функции `urlopen` модуля `urllib.request` и загрузим данные json-формата в переменную `apps_dict` c помощью функции `loads` модуля `json`:"
   ]
  },
  {
   "cell_type": "code",
   "execution_count": 2,
   "id": "792a7aa6",
   "metadata": {},
   "outputs": [],
   "source": [
    "source = 'https://itunes.apple.com/search?term=education&entity=software&limit=100'\n",
    "with urlopen(source) as url:\n",
    "    apps_dict = loads(url.read().decode())"
   ]
  },
  {
   "cell_type": "markdown",
   "id": "3d0e00e0",
   "metadata": {},
   "source": [
    "В переменную `apps_dict` загрузится словарь вида:\n",
    "\n",
    "```\n",
    "{'resultCount': 5,\n",
    " 'results': [{...}, ..., {...}]}\n",
    "```\n",
    "\n",
    "По ключу `results` станет доступен список из 100 словарей, каждый из которых содержит информацию о конкретном приложении. Информация об **id** и **name** для каждого приложения доступна по ключам `trackId` и `trackName` соответственно:"
   ]
  },
  {
   "cell_type": "code",
   "execution_count": 3,
   "id": "98e3abe9",
   "metadata": {
    "scrolled": true
   },
   "outputs": [
    {
     "name": "stdout",
     "output_type": "stream",
     "text": [
      "570060128\n",
      "Duolingo - Language Lessons\n"
     ]
    }
   ],
   "source": [
    "print(apps_dict['results'][0]['trackId'])    # информация об id первого приложения списка\n",
    "print(apps_dict['results'][0]['trackName'])  # информация о title первого приложения списка"
   ]
  },
  {
   "cell_type": "markdown",
   "id": "3d2fbc2b",
   "metadata": {},
   "source": [
    "Получим кортеж кортежей **ids** и **names** для каждого приложения:"
   ]
  },
  {
   "cell_type": "code",
   "execution_count": 4,
   "id": "cb4a3630",
   "metadata": {},
   "outputs": [
    {
     "name": "stdout",
     "output_type": "stream",
     "text": [
      "(570060128, 'Duolingo - Language Lessons')\n"
     ]
    }
   ],
   "source": [
    "apps = tuple((el['trackId'], el['trackName']) for el in apps_dict['results'])\n",
    "print(apps[0])"
   ]
  },
  {
   "cell_type": "markdown",
   "id": "d1cc8251",
   "metadata": {},
   "source": [
    "#### Создание датасетов для обучения модели и для проверки работы модели"
   ]
  },
  {
   "cell_type": "markdown",
   "id": "69315aa3",
   "metadata": {},
   "source": [
    "Предварительно установим (если не установлены) необходимые модули в виртуальное окружение проекта, используя следующую команду:\n",
    "```\n",
    "pip3 install numpy pandas lxml langdetect spacy sklearn matplotlib gensim\n",
    "```"
   ]
  },
  {
   "cell_type": "markdown",
   "id": "2ae341ea",
   "metadata": {},
   "source": [
    "Импортируем необходимые модули:"
   ]
  },
  {
   "cell_type": "code",
   "execution_count": 5,
   "id": "12e4c477",
   "metadata": {},
   "outputs": [],
   "source": [
    "import numpy as np\n",
    "import pandas as pd"
   ]
  },
  {
   "cell_type": "markdown",
   "id": "cf2d16ac",
   "metadata": {},
   "source": [
    "Сформируем на основе полученной информации два data frames, содержащие отзывы о приложениях:\n",
    "- для обучения модели будет использоваться 2 страница (page=2) отзывов;\n",
    "- для проверки модели будет использоваться 1 страница (page=1) отзывов"
   ]
  },
  {
   "cell_type": "code",
   "execution_count": 6,
   "id": "7ffe8efa",
   "metadata": {},
   "outputs": [],
   "source": [
    "df = pd.DataFrame()        # инициализация DataFrame для обучения модели\n",
    "df_check = pd.DataFrame()  # инициализация DataFrame для проверки модели\n",
    "\n",
    "# цикл по 100 приложениям\n",
    "for app_id, app_name in apps:\n",
    "    \n",
    "    # создание запросов с app_id\n",
    "    url = f'https://itunes.apple.com/us/rss/customerreviews/page=2/id={app_id}/sortby=mostrecent/xml'\n",
    "    url_check = f'https://itunes.apple.com/us/rss/customerreviews/page=1/id={app_id}/sortby=mostrecent/xml'\n",
    "    \n",
    "    # считывание xml-файла в Pandas DataFrame\n",
    "    new_df = pd.read_xml(url, parser='lxml')  # lxml - требуемый парсер\n",
    "    new_df_check = pd.read_xml(url_check, parser='lxml')\n",
    "    \n",
    "    # сохранение только нужных столбцов updated, content, rating\n",
    "    cols = ['updated', 'content', 'rating']\n",
    "    new_df = new_df.reindex(columns=cols)\n",
    "    new_df_check = new_df_check.reindex(columns=cols)\n",
    "    \n",
    "    # и удалениe строк, в которых содержится общая информация \n",
    "    # о документе xml, а не сами обзоры (rating = NaN)\n",
    "    new_df = new_df[new_df['rating'].notna()]\n",
    "    new_df_check = new_df_check[new_df_check['rating'].notna()]\n",
    "    \n",
    "    # добавление столбца с именем приложения app_name\n",
    "    new_df['app_name'] = app_name\n",
    "    new_df_check['app_name'] = app_name\n",
    "    \n",
    "    # сохранение загруженных данных в общий DataFrame\n",
    "    df = pd.concat([df, new_df], ignore_index=True)\n",
    "    df_check = pd.concat([df_check, new_df_check], ignore_index=True)"
   ]
  },
  {
   "cell_type": "code",
   "execution_count": 7,
   "id": "2cdfd27b",
   "metadata": {},
   "outputs": [
    {
     "data": {
      "text/html": [
       "<div>\n",
       "<style scoped>\n",
       "    .dataframe tbody tr th:only-of-type {\n",
       "        vertical-align: middle;\n",
       "    }\n",
       "\n",
       "    .dataframe tbody tr th {\n",
       "        vertical-align: top;\n",
       "    }\n",
       "\n",
       "    .dataframe thead th {\n",
       "        text-align: right;\n",
       "    }\n",
       "</style>\n",
       "<table border=\"1\" class=\"dataframe\">\n",
       "  <thead>\n",
       "    <tr style=\"text-align: right;\">\n",
       "      <th></th>\n",
       "      <th>updated</th>\n",
       "      <th>content</th>\n",
       "      <th>rating</th>\n",
       "      <th>app_name</th>\n",
       "    </tr>\n",
       "  </thead>\n",
       "  <tbody>\n",
       "    <tr>\n",
       "      <th>0</th>\n",
       "      <td>2022-03-01T15:48:24-07:00</td>\n",
       "      <td>&lt;table border=\"0\" width=\"100%\"&gt;\\n    &lt;tr&gt;\\n   ...</td>\n",
       "      <td>5.0</td>\n",
       "      <td>Duolingo - Language Lessons</td>\n",
       "    </tr>\n",
       "    <tr>\n",
       "      <th>1</th>\n",
       "      <td>2022-03-01T15:18:11-07:00</td>\n",
       "      <td>&lt;table border=\"0\" width=\"100%\"&gt;\\n    &lt;tr&gt;\\n   ...</td>\n",
       "      <td>5.0</td>\n",
       "      <td>Duolingo - Language Lessons</td>\n",
       "    </tr>\n",
       "    <tr>\n",
       "      <th>2</th>\n",
       "      <td>2022-03-01T15:11:03-07:00</td>\n",
       "      <td>&lt;table border=\"0\" width=\"100%\"&gt;\\n    &lt;tr&gt;\\n   ...</td>\n",
       "      <td>5.0</td>\n",
       "      <td>Duolingo - Language Lessons</td>\n",
       "    </tr>\n",
       "    <tr>\n",
       "      <th>3</th>\n",
       "      <td>2022-03-01T15:02:00-07:00</td>\n",
       "      <td>&lt;table border=\"0\" width=\"100%\"&gt;\\n    &lt;tr&gt;\\n   ...</td>\n",
       "      <td>5.0</td>\n",
       "      <td>Duolingo - Language Lessons</td>\n",
       "    </tr>\n",
       "    <tr>\n",
       "      <th>4</th>\n",
       "      <td>2022-03-01T14:28:12-07:00</td>\n",
       "      <td>&lt;table border=\"0\" width=\"100%\"&gt;\\n    &lt;tr&gt;\\n   ...</td>\n",
       "      <td>1.0</td>\n",
       "      <td>Duolingo - Language Lessons</td>\n",
       "    </tr>\n",
       "  </tbody>\n",
       "</table>\n",
       "</div>"
      ],
      "text/plain": [
       "                     updated  \\\n",
       "0  2022-03-01T15:48:24-07:00   \n",
       "1  2022-03-01T15:18:11-07:00   \n",
       "2  2022-03-01T15:11:03-07:00   \n",
       "3  2022-03-01T15:02:00-07:00   \n",
       "4  2022-03-01T14:28:12-07:00   \n",
       "\n",
       "                                             content  rating  \\\n",
       "0  <table border=\"0\" width=\"100%\">\\n    <tr>\\n   ...     5.0   \n",
       "1  <table border=\"0\" width=\"100%\">\\n    <tr>\\n   ...     5.0   \n",
       "2  <table border=\"0\" width=\"100%\">\\n    <tr>\\n   ...     5.0   \n",
       "3  <table border=\"0\" width=\"100%\">\\n    <tr>\\n   ...     5.0   \n",
       "4  <table border=\"0\" width=\"100%\">\\n    <tr>\\n   ...     1.0   \n",
       "\n",
       "                      app_name  \n",
       "0  Duolingo - Language Lessons  \n",
       "1  Duolingo - Language Lessons  \n",
       "2  Duolingo - Language Lessons  \n",
       "3  Duolingo - Language Lessons  \n",
       "4  Duolingo - Language Lessons  "
      ]
     },
     "execution_count": 7,
     "metadata": {},
     "output_type": "execute_result"
    }
   ],
   "source": [
    "df.head()"
   ]
  },
  {
   "cell_type": "markdown",
   "id": "29da8a13",
   "metadata": {},
   "source": [
    "#### Преобразование и очистка данных"
   ]
  },
  {
   "cell_type": "markdown",
   "id": "9de494fd",
   "metadata": {},
   "source": [
    "В столбце **content** содержится текст отзыва, представленный частью html-документа:"
   ]
  },
  {
   "cell_type": "code",
   "execution_count": 8,
   "id": "53db4514",
   "metadata": {},
   "outputs": [
    {
     "data": {
      "text/plain": [
       "'<table border=\"0\" width=\"100%\">\\n    <tr>\\n        <td>\\n            <table border=\"0\" width=\"100%\" cellspacing=\"0\" cellpadding=\"0\">\\n                <tr valign=\"top\" align=\"left\">\\n                    \\n                    \\n                    \\t<td width=\"100%\">\\n                    \\n                        <b><a href=\"https://apps.apple.com/us/app/duolingo-language-lessons/id570060128?uo=2\">Best language App!</a></b><br/>\\n                        \\n                        \\n                        \\n                        \\n\\n                        \\n\\n                       <font size=\"2\" face=\"Helvetica,Arial,Geneva,Swiss,SunSans-Regular\">\\n\\t\\t\\t\\t\\t\\t\\n                        </font>\\n                    </td>\\n                </tr>\\n            </table>\\n        </td>\\n    </tr>\\n    <tr>\\n        <td>\\n            \\n                <font size=\"2\" face=\"Helvetica,Arial,Geneva,Swiss,SunSans-Regular\"><br/>It’s fun, interactive, and all around educational while learning more than expected! I start my day with my little green owl and add a lesson or two before heading to bed!</font><br/>\\n            \\n            \\n            \\n        </td>\\n    </tr>\\n</table>'"
      ]
     },
     "execution_count": 8,
     "metadata": {},
     "output_type": "execute_result"
    }
   ],
   "source": [
    "text = df['content'][0]\n",
    "text"
   ]
  },
  {
   "cell_type": "markdown",
   "id": "018c7529",
   "metadata": {},
   "source": [
    "Для извлечения текстa из отзыва, необходимо обратиться к элементу по пути ***table -> tr -> td -> font -> текст***:\n",
    "```\n",
    "<table border=\"0\" width=\"100%\">\n",
    "...\n",
    "    <tr>\n",
    "        <td>\n",
    "            <font size=\"2\" face=\"Helvetica,Arial,Geneva,Swiss,SunSans-Regular\">\n",
    "                <br/>It’s fun, interactive, and all around educational while learning more than expected! I start my day with my little green owl and add a lesson or two before heading to bed!\n",
    "            </font><br/>\n",
    "        </td>\n",
    "    </tr>\n",
    "</table>\n",
    "```"
   ]
  },
  {
   "cell_type": "markdown",
   "id": "1308d428",
   "metadata": {},
   "source": [
    "Воспользуемся функцией `fromstring()` модуля `lxml.html`, которая преобразует входную строку в дерево элементов. Из полученного дерева с помощью метода `xpath` извлечем элементы `text()` и зпишем их в пременную `list_lxml`:"
   ]
  },
  {
   "cell_type": "code",
   "execution_count": 9,
   "id": "e1b1d597",
   "metadata": {},
   "outputs": [
    {
     "data": {
      "text/plain": [
       "['\\n\\t\\t\\t\\t\\t\\t\\n                        ',\n",
       " 'It’s fun, interactive, and all around educational while learning more than expected! I start my day with my little green owl and add a lesson or two before heading to bed!']"
      ]
     },
     "execution_count": 9,
     "metadata": {},
     "output_type": "execute_result"
    }
   ],
   "source": [
    "from lxml import html\n",
    "\n",
    "# преобразование текста в дерево элементов\n",
    "tree = html.fromstring(text)\n",
    "\n",
    "# доступ к необходимым элементам через xpath\n",
    "list_lxml = tree.xpath('//table/tr/td/font/text()')\n",
    "\n",
    "list_lxml"
   ]
  },
  {
   "cell_type": "markdown",
   "id": "7d99325a",
   "metadata": {},
   "source": [
    "Переменная `list_lxml` имеет тип `list` и содержит текстовые элементы, которые нам нужны. Первый элемент `\\n\\t\\t\\t\\t\\t\\t\\n` является лишним, поэтому им можно пренебречь. Из оставшихся элементов с помощью строкового метода `join()` будет создана одна строка с отзывом:"
   ]
  },
  {
   "cell_type": "code",
   "execution_count": 10,
   "id": "9ef62c5e",
   "metadata": {},
   "outputs": [
    {
     "name": "stdout",
     "output_type": "stream",
     "text": [
      "It’s fun, interactive, and all around educational while learning more than expected! I start my day with my little green owl and add a lesson or two before heading to bed!\n"
     ]
    }
   ],
   "source": [
    "print(''.join(list_lxml[1:]))"
   ]
  },
  {
   "cell_type": "markdown",
   "id": "54f9dae3",
   "metadata": {},
   "source": [
    "Для изменения всего столбца **content** создадим функцию, которая будет преобразовывать текст к нужной форме, и воспользуемся методом `apply` для применения этой функции к столбцу **content**:"
   ]
  },
  {
   "cell_type": "code",
   "execution_count": 11,
   "id": "b769c80a",
   "metadata": {},
   "outputs": [],
   "source": [
    "def get_content(text):\n",
    "    return ''.join(\n",
    "        html.fromstring(text).xpath('//table/tr/td/font/text()')[1:]\n",
    "    )"
   ]
  },
  {
   "cell_type": "code",
   "execution_count": 12,
   "id": "1a28d82b",
   "metadata": {},
   "outputs": [
    {
     "data": {
      "text/html": [
       "<div>\n",
       "<style scoped>\n",
       "    .dataframe tbody tr th:only-of-type {\n",
       "        vertical-align: middle;\n",
       "    }\n",
       "\n",
       "    .dataframe tbody tr th {\n",
       "        vertical-align: top;\n",
       "    }\n",
       "\n",
       "    .dataframe thead th {\n",
       "        text-align: right;\n",
       "    }\n",
       "</style>\n",
       "<table border=\"1\" class=\"dataframe\">\n",
       "  <thead>\n",
       "    <tr style=\"text-align: right;\">\n",
       "      <th></th>\n",
       "      <th>updated</th>\n",
       "      <th>content</th>\n",
       "      <th>rating</th>\n",
       "      <th>app_name</th>\n",
       "    </tr>\n",
       "  </thead>\n",
       "  <tbody>\n",
       "    <tr>\n",
       "      <th>0</th>\n",
       "      <td>2022-03-01T15:48:24-07:00</td>\n",
       "      <td>It’s fun, interactive, and all around educatio...</td>\n",
       "      <td>5.0</td>\n",
       "      <td>Duolingo - Language Lessons</td>\n",
       "    </tr>\n",
       "    <tr>\n",
       "      <th>1</th>\n",
       "      <td>2022-03-01T15:18:11-07:00</td>\n",
       "      <td>Because of Duolingo, I can speak simple senten...</td>\n",
       "      <td>5.0</td>\n",
       "      <td>Duolingo - Language Lessons</td>\n",
       "    </tr>\n",
       "    <tr>\n",
       "      <th>2</th>\n",
       "      <td>2022-03-01T15:11:03-07:00</td>\n",
       "      <td>Duolingo is s great if you have a short time t...</td>\n",
       "      <td>5.0</td>\n",
       "      <td>Duolingo - Language Lessons</td>\n",
       "    </tr>\n",
       "    <tr>\n",
       "      <th>3</th>\n",
       "      <td>2022-03-01T15:02:00-07:00</td>\n",
       "      <td>This app has carried my further than any of my...</td>\n",
       "      <td>5.0</td>\n",
       "      <td>Duolingo - Language Lessons</td>\n",
       "    </tr>\n",
       "    <tr>\n",
       "      <th>4</th>\n",
       "      <td>2022-03-01T14:28:12-07:00</td>\n",
       "      <td>Update it so you don’t have to sign in so you ...</td>\n",
       "      <td>1.0</td>\n",
       "      <td>Duolingo - Language Lessons</td>\n",
       "    </tr>\n",
       "  </tbody>\n",
       "</table>\n",
       "</div>"
      ],
      "text/plain": [
       "                     updated  \\\n",
       "0  2022-03-01T15:48:24-07:00   \n",
       "1  2022-03-01T15:18:11-07:00   \n",
       "2  2022-03-01T15:11:03-07:00   \n",
       "3  2022-03-01T15:02:00-07:00   \n",
       "4  2022-03-01T14:28:12-07:00   \n",
       "\n",
       "                                             content  rating  \\\n",
       "0  It’s fun, interactive, and all around educatio...     5.0   \n",
       "1  Because of Duolingo, I can speak simple senten...     5.0   \n",
       "2  Duolingo is s great if you have a short time t...     5.0   \n",
       "3  This app has carried my further than any of my...     5.0   \n",
       "4  Update it so you don’t have to sign in so you ...     1.0   \n",
       "\n",
       "                      app_name  \n",
       "0  Duolingo - Language Lessons  \n",
       "1  Duolingo - Language Lessons  \n",
       "2  Duolingo - Language Lessons  \n",
       "3  Duolingo - Language Lessons  \n",
       "4  Duolingo - Language Lessons  "
      ]
     },
     "execution_count": 12,
     "metadata": {},
     "output_type": "execute_result"
    }
   ],
   "source": [
    "df['content'] = df['content'].apply(get_content)\n",
    "df.head()"
   ]
  },
  {
   "cell_type": "code",
   "execution_count": 13,
   "id": "7de36da1",
   "metadata": {},
   "outputs": [
    {
     "data": {
      "text/html": [
       "<div>\n",
       "<style scoped>\n",
       "    .dataframe tbody tr th:only-of-type {\n",
       "        vertical-align: middle;\n",
       "    }\n",
       "\n",
       "    .dataframe tbody tr th {\n",
       "        vertical-align: top;\n",
       "    }\n",
       "\n",
       "    .dataframe thead th {\n",
       "        text-align: right;\n",
       "    }\n",
       "</style>\n",
       "<table border=\"1\" class=\"dataframe\">\n",
       "  <thead>\n",
       "    <tr style=\"text-align: right;\">\n",
       "      <th></th>\n",
       "      <th>updated</th>\n",
       "      <th>content</th>\n",
       "      <th>rating</th>\n",
       "      <th>app_name</th>\n",
       "    </tr>\n",
       "  </thead>\n",
       "  <tbody>\n",
       "    <tr>\n",
       "      <th>0</th>\n",
       "      <td>2022-03-02T21:39:53-07:00</td>\n",
       "      <td>You cannot access your lessons offline.</td>\n",
       "      <td>1.0</td>\n",
       "      <td>Duolingo - Language Lessons</td>\n",
       "    </tr>\n",
       "    <tr>\n",
       "      <th>1</th>\n",
       "      <td>2022-03-02T20:30:33-07:00</td>\n",
       "      <td>So I was doing a lightning round and all it’s ...</td>\n",
       "      <td>1.0</td>\n",
       "      <td>Duolingo - Language Lessons</td>\n",
       "    </tr>\n",
       "    <tr>\n",
       "      <th>2</th>\n",
       "      <td>2022-03-02T19:48:02-07:00</td>\n",
       "      <td>Duolingo has helped me greatly improve my Span...</td>\n",
       "      <td>4.0</td>\n",
       "      <td>Duolingo - Language Lessons</td>\n",
       "    </tr>\n",
       "    <tr>\n",
       "      <th>3</th>\n",
       "      <td>2022-03-02T19:43:33-07:00</td>\n",
       "      <td>Given that I am I a fluent English speaker and...</td>\n",
       "      <td>1.0</td>\n",
       "      <td>Duolingo - Language Lessons</td>\n",
       "    </tr>\n",
       "    <tr>\n",
       "      <th>4</th>\n",
       "      <td>2022-03-02T19:41:53-07:00</td>\n",
       "      <td>It’s a clever well thought teaching app It tea...</td>\n",
       "      <td>5.0</td>\n",
       "      <td>Duolingo - Language Lessons</td>\n",
       "    </tr>\n",
       "  </tbody>\n",
       "</table>\n",
       "</div>"
      ],
      "text/plain": [
       "                     updated  \\\n",
       "0  2022-03-02T21:39:53-07:00   \n",
       "1  2022-03-02T20:30:33-07:00   \n",
       "2  2022-03-02T19:48:02-07:00   \n",
       "3  2022-03-02T19:43:33-07:00   \n",
       "4  2022-03-02T19:41:53-07:00   \n",
       "\n",
       "                                             content  rating  \\\n",
       "0            You cannot access your lessons offline.     1.0   \n",
       "1  So I was doing a lightning round and all it’s ...     1.0   \n",
       "2  Duolingo has helped me greatly improve my Span...     4.0   \n",
       "3  Given that I am I a fluent English speaker and...     1.0   \n",
       "4  It’s a clever well thought teaching app It tea...     5.0   \n",
       "\n",
       "                      app_name  \n",
       "0  Duolingo - Language Lessons  \n",
       "1  Duolingo - Language Lessons  \n",
       "2  Duolingo - Language Lessons  \n",
       "3  Duolingo - Language Lessons  \n",
       "4  Duolingo - Language Lessons  "
      ]
     },
     "execution_count": 13,
     "metadata": {},
     "output_type": "execute_result"
    }
   ],
   "source": [
    "df_check['content'] = df_check['content'].apply(get_content)\n",
    "df_check.head()"
   ]
  },
  {
   "cell_type": "markdown",
   "id": "ca1a0071",
   "metadata": {},
   "source": [
    "Проанализируем столбцы таблиц. Для этого воспользуемся методом `info()`:"
   ]
  },
  {
   "cell_type": "code",
   "execution_count": 14,
   "id": "71a0b861",
   "metadata": {},
   "outputs": [
    {
     "name": "stdout",
     "output_type": "stream",
     "text": [
      "<class 'pandas.core.frame.DataFrame'>\n",
      "RangeIndex: 4900 entries, 0 to 4899\n",
      "Data columns (total 4 columns):\n",
      " #   Column    Non-Null Count  Dtype  \n",
      "---  ------    --------------  -----  \n",
      " 0   updated   4900 non-null   object \n",
      " 1   content   4900 non-null   object \n",
      " 2   rating    4900 non-null   float64\n",
      " 3   app_name  4900 non-null   object \n",
      "dtypes: float64(1), object(3)\n",
      "memory usage: 153.2+ KB\n"
     ]
    }
   ],
   "source": [
    "df.info()"
   ]
  },
  {
   "cell_type": "markdown",
   "id": "cab87084",
   "metadata": {},
   "source": [
    "Информация о таблице показывает, что у нас нет столбцов, в которых бы содержались пустые значения. Значит таблице полная."
   ]
  },
  {
   "cell_type": "markdown",
   "id": "2cd09297",
   "metadata": {},
   "source": [
    "Просмотрим данные в столбце **content** для нахождения возможных некорректных значений (некоректными данными могут являться комментарии не на английском или небуквенные символы, относящиеся к смайлам или чему-либо еще)."
   ]
  },
  {
   "cell_type": "code",
   "execution_count": 16,
   "id": "ae2750d3",
   "metadata": {},
   "outputs": [
    {
     "data": {
      "text/plain": [
       "'我希望同步的速度可以更快点，像聊天工具那样就好了'"
      ]
     },
     "execution_count": 16,
     "metadata": {},
     "output_type": "execute_result"
    }
   ],
   "source": [
    "text_not_en = df_check['content'][710]\n",
    "text_not_en"
   ]
  },
  {
   "cell_type": "code",
   "execution_count": 17,
   "id": "640acb9d",
   "metadata": {},
   "outputs": [
    {
     "data": {
      "text/plain": [
       "'I learned Spanish within a week. Spanish or Vanish🤷🏻\\u200d♀️'"
      ]
     },
     "execution_count": 17,
     "metadata": {},
     "output_type": "execute_result"
    }
   ],
   "source": [
    "text_smile = df['content'][35]\n",
    "text_smile"
   ]
  },
  {
   "cell_type": "markdown",
   "id": "f117ba42",
   "metadata": {},
   "source": [
    "Анализ столбца **content** показал, что иногда встречаются отзывы не на английском языке или отзывы, содержащие смайлики. Они могут помешать обучению, поэтому необходимо:\n",
    "1. удалить отзывы не на английском языке;\n",
    "1. удалить смайлы в отзывах."
   ]
  },
  {
   "cell_type": "markdown",
   "id": "406e4160",
   "metadata": {},
   "source": [
    "Для удаления отзывов, написанных не на английском языке, воспользуемся функцией `detect` модуля `langdetect`:"
   ]
  },
  {
   "cell_type": "code",
   "execution_count": 18,
   "id": "c415f698",
   "metadata": {},
   "outputs": [
    {
     "data": {
      "text/plain": [
       "False"
      ]
     },
     "execution_count": 18,
     "metadata": {},
     "output_type": "execute_result"
    }
   ],
   "source": [
    "from langdetect import detect\n",
    "\n",
    "detect(text_not_en) == 'en'"
   ]
  },
  {
   "cell_type": "markdown",
   "id": "fa4be91b",
   "metadata": {},
   "source": [
    "Для удаления всех строк, содержащих отзывы не на английском языке создадим функцию, которая будет проверять язык текста, и воспользуемся методом apply для применения этой функции к столбцу **content** с последующей фильтрацией всей таблицы:"
   ]
  },
  {
   "cell_type": "code",
   "execution_count": 19,
   "id": "64a4e0dc",
   "metadata": {},
   "outputs": [],
   "source": [
    "from langdetect import detect\n",
    "\n",
    "def is_en(text):\n",
    "    try:\n",
    "        return detect(text) == 'en'\n",
    "    except:\n",
    "        return False"
   ]
  },
  {
   "cell_type": "code",
   "execution_count": 20,
   "id": "69e6875a",
   "metadata": {},
   "outputs": [
    {
     "name": "stdout",
     "output_type": "stream",
     "text": [
      "4900\n",
      "4919\n"
     ]
    }
   ],
   "source": [
    "print(df.shape[0])\n",
    "print(df_check.shape[0])"
   ]
  },
  {
   "cell_type": "code",
   "execution_count": 21,
   "id": "b9a38603",
   "metadata": {},
   "outputs": [
    {
     "data": {
      "text/plain": [
       "4484"
      ]
     },
     "execution_count": 21,
     "metadata": {},
     "output_type": "execute_result"
    }
   ],
   "source": [
    "df = df[df['content'].apply(is_en)]\n",
    "df.shape[0]"
   ]
  },
  {
   "cell_type": "code",
   "execution_count": 22,
   "id": "07ab6a31",
   "metadata": {},
   "outputs": [
    {
     "data": {
      "text/plain": [
       "4492"
      ]
     },
     "execution_count": 22,
     "metadata": {},
     "output_type": "execute_result"
    }
   ],
   "source": [
    "df_check = df_check[df_check['content'].apply(is_en)]\n",
    "df_check.shape[0]"
   ]
  },
  {
   "cell_type": "markdown",
   "id": "f5351a4e",
   "metadata": {},
   "source": [
    "Как видно выше, язык примерно 8% отзывов оказался не английским."
   ]
  },
  {
   "cell_type": "markdown",
   "id": "0f25f28c",
   "metadata": {},
   "source": [
    "Для удаления смайлов в отзывах воспользуемся функцией `compile` модуля `re` для компиляции регулярного выражения, включающее возможные смайлики. Для применения регулярного выражения используем метод `replace`, который заменит все смайлы на пустые значения:"
   ]
  },
  {
   "cell_type": "code",
   "execution_count": 26,
   "id": "96c22ca4",
   "metadata": {},
   "outputs": [],
   "source": [
    "import re\n",
    "\n",
    "# создание регулярного выражения со смайлами\n",
    "emoticons_reg = re.compile(\"[\"\n",
    "    u\"\\U0001F600-\\U0001F64F\"\n",
    "    u\"\\U0001F300-\\U0001F5FF\"\n",
    "    u\"\\U0001F680-\\U0001F6FF\"\n",
    "    u\"\\U0001F1E0-\\U0001F1FF\"\n",
    "    u\"\\U00002500-\\U00002BEF\"\n",
    "    u\"\\U00002702-\\U000027B0\"\n",
    "    u\"\\U00002702-\\U000027B0\"\n",
    "    u\"\\U000024C2-\\U0001F251\"\n",
    "    u\"\\U0001f926-\\U0001f937\"\n",
    "    u\"\\U00010000-\\U0010ffff\"\n",
    "    u\"\\u2640-\\u2642\"\n",
    "    u\"\\u2600-\\u2B55\"\n",
    "    u\"\\u200d\"\n",
    "    u\"\\u23cf\"\n",
    "    u\"\\u23e9\"\n",
    "    u\"\\u231a\"\n",
    "    u\"\\ufe0f\"\n",
    "    u\"\\u3030\"\n",
    "    \"]+\", flags=re.UNICODE)"
   ]
  },
  {
   "cell_type": "code",
   "execution_count": 28,
   "id": "40e66b69",
   "metadata": {},
   "outputs": [
    {
     "data": {
      "text/plain": [
       "'I learned Spanish within a week. Spanish or Vanish'"
      ]
     },
     "execution_count": 28,
     "metadata": {},
     "output_type": "execute_result"
    }
   ],
   "source": [
    "df['content'].replace(emoticons_reg, '', regex=True, inplace=True)\n",
    "df_check['content'].replace(emoticons_reg, '', regex=True, inplace=True)\n",
    "df['content'][35]"
   ]
  },
  {
   "cell_type": "markdown",
   "id": "7155d329",
   "metadata": {},
   "source": [
    "Сохраним полученные таблицы:"
   ]
  },
  {
   "cell_type": "code",
   "execution_count": 53,
   "id": "2308bee4",
   "metadata": {},
   "outputs": [],
   "source": [
    "# перестановка метами двух последних столбцов, чтобы rating оказался в самом конце\n",
    "df = df[['updated', 'content', 'app_name', 'rating']]\n",
    "df_check = df_check[['updated', 'content', 'app_name', 'rating']]\n",
    "\n",
    "# преобразование типа столбца rating из float в integer\n",
    "df['rating'] = pd.to_numeric(df['rating'], downcast='integer')\n",
    "df_check['rating'] = pd.to_numeric(df_check['rating'], downcast='integer')\n",
    "\n",
    "df.to_csv('datasets/train/reviews_train.csv', sep='|', index=False)\n",
    "df_check.to_csv('datasets/check/reviews_check.csv', sep='|', index=False)"
   ]
  },
  {
   "cell_type": "markdown",
   "id": "47a6778b",
   "metadata": {},
   "source": [
    "#### Анализ данных и подготовка данных к обучению"
   ]
  },
  {
   "cell_type": "markdown",
   "id": "747d34a8",
   "metadata": {},
   "source": [
    "Загрузим данные из сохраненного csv-файла:"
   ]
  },
  {
   "cell_type": "code",
   "execution_count": 94,
   "id": "fde3fc91",
   "metadata": {},
   "outputs": [
    {
     "data": {
      "text/html": [
       "<div>\n",
       "<style scoped>\n",
       "    .dataframe tbody tr th:only-of-type {\n",
       "        vertical-align: middle;\n",
       "    }\n",
       "\n",
       "    .dataframe tbody tr th {\n",
       "        vertical-align: top;\n",
       "    }\n",
       "\n",
       "    .dataframe thead th {\n",
       "        text-align: right;\n",
       "    }\n",
       "</style>\n",
       "<table border=\"1\" class=\"dataframe\">\n",
       "  <thead>\n",
       "    <tr style=\"text-align: right;\">\n",
       "      <th></th>\n",
       "      <th>updated</th>\n",
       "      <th>content</th>\n",
       "      <th>app_name</th>\n",
       "      <th>rating</th>\n",
       "    </tr>\n",
       "  </thead>\n",
       "  <tbody>\n",
       "    <tr>\n",
       "      <th>0</th>\n",
       "      <td>2022-03-01 15:48:24-07:00</td>\n",
       "      <td>It’s fun, interactive, and all around educatio...</td>\n",
       "      <td>Duolingo - Language Lessons</td>\n",
       "      <td>5</td>\n",
       "    </tr>\n",
       "    <tr>\n",
       "      <th>1</th>\n",
       "      <td>2022-03-01 15:18:11-07:00</td>\n",
       "      <td>Because of Duolingo, I can speak simple senten...</td>\n",
       "      <td>Duolingo - Language Lessons</td>\n",
       "      <td>5</td>\n",
       "    </tr>\n",
       "    <tr>\n",
       "      <th>2</th>\n",
       "      <td>2022-03-01 15:11:03-07:00</td>\n",
       "      <td>Duolingo is s great if you have a short time t...</td>\n",
       "      <td>Duolingo - Language Lessons</td>\n",
       "      <td>5</td>\n",
       "    </tr>\n",
       "    <tr>\n",
       "      <th>3</th>\n",
       "      <td>2022-03-01 15:02:00-07:00</td>\n",
       "      <td>This app has carried my further than any of my...</td>\n",
       "      <td>Duolingo - Language Lessons</td>\n",
       "      <td>5</td>\n",
       "    </tr>\n",
       "    <tr>\n",
       "      <th>4</th>\n",
       "      <td>2022-03-01 14:28:12-07:00</td>\n",
       "      <td>Update it so you don’t have to sign in so you ...</td>\n",
       "      <td>Duolingo - Language Lessons</td>\n",
       "      <td>1</td>\n",
       "    </tr>\n",
       "  </tbody>\n",
       "</table>\n",
       "</div>"
      ],
      "text/plain": [
       "                     updated  \\\n",
       "0  2022-03-01 15:48:24-07:00   \n",
       "1  2022-03-01 15:18:11-07:00   \n",
       "2  2022-03-01 15:11:03-07:00   \n",
       "3  2022-03-01 15:02:00-07:00   \n",
       "4  2022-03-01 14:28:12-07:00   \n",
       "\n",
       "                                             content  \\\n",
       "0  It’s fun, interactive, and all around educatio...   \n",
       "1  Because of Duolingo, I can speak simple senten...   \n",
       "2  Duolingo is s great if you have a short time t...   \n",
       "3  This app has carried my further than any of my...   \n",
       "4  Update it so you don’t have to sign in so you ...   \n",
       "\n",
       "                      app_name  rating  \n",
       "0  Duolingo - Language Lessons       5  \n",
       "1  Duolingo - Language Lessons       5  \n",
       "2  Duolingo - Language Lessons       5  \n",
       "3  Duolingo - Language Lessons       5  \n",
       "4  Duolingo - Language Lessons       1  "
      ]
     },
     "execution_count": 94,
     "metadata": {},
     "output_type": "execute_result"
    }
   ],
   "source": [
    "df = pd.read_csv('datasets/train/reviews_train.csv', sep='|')\n",
    "df_check = pd.read_csv('datasets/check/reviews_check.csv', sep='|')\n",
    "df.head()"
   ]
  },
  {
   "cell_type": "code",
   "execution_count": 63,
   "id": "0a2cf816",
   "metadata": {},
   "outputs": [
    {
     "name": "stdout",
     "output_type": "stream",
     "text": [
      "<class 'pandas.core.frame.DataFrame'>\n",
      "RangeIndex: 4484 entries, 0 to 4483\n",
      "Data columns (total 4 columns):\n",
      " #   Column    Non-Null Count  Dtype \n",
      "---  ------    --------------  ----- \n",
      " 0   updated   4484 non-null   object\n",
      " 1   content   4484 non-null   object\n",
      " 2   app_name  4484 non-null   object\n",
      " 3   rating    4484 non-null   int64 \n",
      "dtypes: int64(1), object(3)\n",
      "memory usage: 140.2+ KB\n"
     ]
    }
   ],
   "source": [
    "df.info()"
   ]
  },
  {
   "cell_type": "markdown",
   "id": "63c384bc",
   "metadata": {},
   "source": [
    "Для обучения столбец **rating** является целевым признаком. Посмотрим на него подробнее с помощью графического представления, используя модуль `matplotlib.pyplot`:"
   ]
  },
  {
   "cell_type": "code",
   "execution_count": 69,
   "id": "6c0bd3ee",
   "metadata": {},
   "outputs": [],
   "source": [
    "import matplotlib.pyplot as plt"
   ]
  },
  {
   "cell_type": "code",
   "execution_count": 80,
   "id": "42629ac4",
   "metadata": {},
   "outputs": [
    {
     "data": {
      "image/png": "[encoded data removed]",
      "text/plain": [
       "<Figure size 432x288 with 1 Axes>"
      ]
     },
     "metadata": {
      "needs_background": "light"
     },
     "output_type": "display_data"
    }
   ],
   "source": [
    "plt.hist(df['rating'], bins=5, color='forestgreen')\n",
    "plt.xticks(np.arange(1, 6))\n",
    "plt.show()"
   ]
  },
  {
   "cell_type": "markdown",
   "id": "3e9b8a41",
   "metadata": {},
   "source": [
    "Чтобы обеспечить качество данных для последующего обучения, переведём столбец **rating** из 5-бальной шкалы в 2-бальную - \"положительные\" и \"отрицательные\" оценки. Это понадобится в последующем для модели обучения, а также поможет сравнять распределение классов целевого прзнака по количеству."
   ]
  },
  {
   "cell_type": "markdown",
   "id": "78f825e4",
   "metadata": {},
   "source": [
    "Примем за положительные оценки 5 и 4, а за отрицательные 3, 2 и 1. Для перевода столбца **rating** в 2-бальную шкалу воспользуемся функцией `where` библиотеки `numpy`, записав в неё соответствующее условие:"
   ]
  },
  {
   "cell_type": "code",
   "execution_count": 95,
   "id": "e29e09bd",
   "metadata": {},
   "outputs": [
    {
     "data": {
      "text/html": [
       "<div>\n",
       "<style scoped>\n",
       "    .dataframe tbody tr th:only-of-type {\n",
       "        vertical-align: middle;\n",
       "    }\n",
       "\n",
       "    .dataframe tbody tr th {\n",
       "        vertical-align: top;\n",
       "    }\n",
       "\n",
       "    .dataframe thead th {\n",
       "        text-align: right;\n",
       "    }\n",
       "</style>\n",
       "<table border=\"1\" class=\"dataframe\">\n",
       "  <thead>\n",
       "    <tr style=\"text-align: right;\">\n",
       "      <th></th>\n",
       "      <th>updated</th>\n",
       "      <th>content</th>\n",
       "      <th>app_name</th>\n",
       "      <th>rating</th>\n",
       "    </tr>\n",
       "  </thead>\n",
       "  <tbody>\n",
       "    <tr>\n",
       "      <th>0</th>\n",
       "      <td>2022-03-01 15:48:24-07:00</td>\n",
       "      <td>It’s fun, interactive, and all around educatio...</td>\n",
       "      <td>Duolingo - Language Lessons</td>\n",
       "      <td>1</td>\n",
       "    </tr>\n",
       "    <tr>\n",
       "      <th>1</th>\n",
       "      <td>2022-03-01 15:18:11-07:00</td>\n",
       "      <td>Because of Duolingo, I can speak simple senten...</td>\n",
       "      <td>Duolingo - Language Lessons</td>\n",
       "      <td>1</td>\n",
       "    </tr>\n",
       "    <tr>\n",
       "      <th>2</th>\n",
       "      <td>2022-03-01 15:11:03-07:00</td>\n",
       "      <td>Duolingo is s great if you have a short time t...</td>\n",
       "      <td>Duolingo - Language Lessons</td>\n",
       "      <td>1</td>\n",
       "    </tr>\n",
       "    <tr>\n",
       "      <th>3</th>\n",
       "      <td>2022-03-01 15:02:00-07:00</td>\n",
       "      <td>This app has carried my further than any of my...</td>\n",
       "      <td>Duolingo - Language Lessons</td>\n",
       "      <td>1</td>\n",
       "    </tr>\n",
       "    <tr>\n",
       "      <th>4</th>\n",
       "      <td>2022-03-01 14:28:12-07:00</td>\n",
       "      <td>Update it so you don’t have to sign in so you ...</td>\n",
       "      <td>Duolingo - Language Lessons</td>\n",
       "      <td>0</td>\n",
       "    </tr>\n",
       "  </tbody>\n",
       "</table>\n",
       "</div>"
      ],
      "text/plain": [
       "                     updated  \\\n",
       "0  2022-03-01 15:48:24-07:00   \n",
       "1  2022-03-01 15:18:11-07:00   \n",
       "2  2022-03-01 15:11:03-07:00   \n",
       "3  2022-03-01 15:02:00-07:00   \n",
       "4  2022-03-01 14:28:12-07:00   \n",
       "\n",
       "                                             content  \\\n",
       "0  It’s fun, interactive, and all around educatio...   \n",
       "1  Because of Duolingo, I can speak simple senten...   \n",
       "2  Duolingo is s great if you have a short time t...   \n",
       "3  This app has carried my further than any of my...   \n",
       "4  Update it so you don’t have to sign in so you ...   \n",
       "\n",
       "                      app_name  rating  \n",
       "0  Duolingo - Language Lessons       1  \n",
       "1  Duolingo - Language Lessons       1  \n",
       "2  Duolingo - Language Lessons       1  \n",
       "3  Duolingo - Language Lessons       1  \n",
       "4  Duolingo - Language Lessons       0  "
      ]
     },
     "execution_count": 95,
     "metadata": {},
     "output_type": "execute_result"
    }
   ],
   "source": [
    "# условие:\n",
    "# 5//2 = 2 > 1, 4//2 = 2 > 1\n",
    "# 3//2 = 1 = 1, 2//2 = 1 = 1, 1//2 = 0 < 1\n",
    "df['rating'] = np.where(df['rating'] // 2 > 1, 1, 0)\n",
    "df_check['rating'] = np.where(df_check['rating'] // 2 > 1, 1, 0)\n",
    "df.head()"
   ]
  },
  {
   "cell_type": "code",
   "execution_count": 86,
   "id": "ddd59bca",
   "metadata": {},
   "outputs": [
    {
     "data": {
      "image/png": "[encoded data removed]",
      "text/plain": [
       "<Figure size 432x288 with 1 Axes>"
      ]
     },
     "metadata": {
      "needs_background": "light"
     },
     "output_type": "display_data"
    }
   ],
   "source": [
    "plt.hist(df['rating'], bins=2, color='forestgreen')\n",
    "plt.show()"
   ]
  },
  {
   "cell_type": "code",
   "execution_count": 96,
   "id": "65de9572",
   "metadata": {},
   "outputs": [
    {
     "data": {
      "text/plain": [
       "1    2454\n",
       "0    2030\n",
       "Name: rating, dtype: int64"
      ]
     },
     "execution_count": 96,
     "metadata": {},
     "output_type": "execute_result"
    }
   ],
   "source": [
    "df.rating.value_counts()"
   ]
  },
  {
   "cell_type": "markdown",
   "id": "22463096",
   "metadata": {},
   "source": [
    "Удалим из таблицы лишнее количество строк с оценкой 1 (лишнее - разница между количеством оценок 1 и 0). Для этого воспользуемся функцией `choice` модуля `np.random`:"
   ]
  },
  {
   "cell_type": "code",
   "execution_count": 97,
   "id": "ce2a0bbd",
   "metadata": {},
   "outputs": [
    {
     "data": {
      "text/plain": [
       "424"
      ]
     },
     "execution_count": 97,
     "metadata": {},
     "output_type": "execute_result"
    }
   ],
   "source": [
    "to_remove = np.random.choice(\n",
    "    df[df['rating'] == 1].index,\n",
    "    size=2454-2030,\n",
    "    replace=False\n",
    ")\n",
    "to_remove.size"
   ]
  },
  {
   "cell_type": "code",
   "execution_count": 98,
   "id": "4c93bcaa",
   "metadata": {},
   "outputs": [
    {
     "data": {
      "text/plain": [
       "2030"
      ]
     },
     "execution_count": 98,
     "metadata": {},
     "output_type": "execute_result"
    }
   ],
   "source": [
    "df = df.drop(to_remove)\n",
    "df.rating.value_counts()[0]"
   ]
  },
  {
   "cell_type": "code",
   "execution_count": 100,
   "id": "7a0a8e89",
   "metadata": {},
   "outputs": [
    {
     "data": {
      "text/plain": [
       "0    2025\n",
       "1    2025\n",
       "Name: rating, dtype: int64"
      ]
     },
     "execution_count": 100,
     "metadata": {},
     "output_type": "execute_result"
    }
   ],
   "source": [
    "n = df_check.rating.value_counts()[1] - df_check.rating.value_counts()[0]\n",
    "to_remove = np.random.choice(\n",
    "    df_check[df_check['rating'] == 1].index,\n",
    "    size=n,\n",
    "    replace=False\n",
    ")\n",
    "df_check = df_check.drop(to_remove)\n",
    "df_check.rating.value_counts()"
   ]
  },
  {
   "cell_type": "markdown",
   "id": "3067ebb3",
   "metadata": {},
   "source": [
    "Сохраним полученные таблицы:"
   ]
  },
  {
   "cell_type": "code",
   "execution_count": 102,
   "id": "a9c26a3b",
   "metadata": {},
   "outputs": [],
   "source": [
    "df.to_csv('datasets/train/final_reviews_train.csv', sep='|', index=False)\n",
    "df_check.to_csv('datasets/check/final_reviews_check.csv', sep='|', index=False)"
   ]
  },
  {
   "cell_type": "markdown",
   "id": "ce01d779",
   "metadata": {},
   "source": [
    "### Создание и обучение моделей"
   ]
  },
  {
   "cell_type": "markdown",
   "id": "b7f68a10",
   "metadata": {},
   "source": [
    "#### Использование модели Random Forest Classifier"
   ]
  },
  {
   "cell_type": "markdown",
   "id": "8b00afa9",
   "metadata": {},
   "source": [
    "Задача определения тональности текста сводится к бинарной классификации. Воспользуемся алгоритмом Random Forest Classifier для классификации обзоров на приложения."
   ]
  },
  {
   "cell_type": "markdown",
   "id": "201bff56",
   "metadata": {},
   "source": [
    "##### Подготовка данных для модели"
   ]
  },
  {
   "cell_type": "markdown",
   "id": "05929119",
   "metadata": {},
   "source": [
    "Загрузим данные из сохраненного раннее файла `.csv`:"
   ]
  },
  {
   "cell_type": "code",
   "execution_count": 1,
   "id": "30be09c6",
   "metadata": {},
   "outputs": [],
   "source": [
    "import pandas as pd\n",
    "import matplotlib.pyplot as plt\n",
    "import numpy as np\n",
    "import re"
   ]
  },
  {
   "cell_type": "code",
   "execution_count": 2,
   "id": "7428d95d",
   "metadata": {},
   "outputs": [
    {
     "data": {
      "text/html": [
       "<div>\n",
       "<style scoped>\n",
       "    .dataframe tbody tr th:only-of-type {\n",
       "        vertical-align: middle;\n",
       "    }\n",
       "\n",
       "    .dataframe tbody tr th {\n",
       "        vertical-align: top;\n",
       "    }\n",
       "\n",
       "    .dataframe thead th {\n",
       "        text-align: right;\n",
       "    }\n",
       "</style>\n",
       "<table border=\"1\" class=\"dataframe\">\n",
       "  <thead>\n",
       "    <tr style=\"text-align: right;\">\n",
       "      <th></th>\n",
       "      <th>updated</th>\n",
       "      <th>content</th>\n",
       "      <th>app_name</th>\n",
       "      <th>rating</th>\n",
       "    </tr>\n",
       "  </thead>\n",
       "  <tbody>\n",
       "    <tr>\n",
       "      <th>0</th>\n",
       "      <td>2022-03-01 15:48:24-07:00</td>\n",
       "      <td>It’s fun, interactive, and all around educatio...</td>\n",
       "      <td>Duolingo - Language Lessons</td>\n",
       "      <td>1</td>\n",
       "    </tr>\n",
       "    <tr>\n",
       "      <th>1</th>\n",
       "      <td>2022-03-01 15:18:11-07:00</td>\n",
       "      <td>Because of Duolingo, I can speak simple senten...</td>\n",
       "      <td>Duolingo - Language Lessons</td>\n",
       "      <td>1</td>\n",
       "    </tr>\n",
       "    <tr>\n",
       "      <th>2</th>\n",
       "      <td>2022-03-01 15:11:03-07:00</td>\n",
       "      <td>Duolingo is s great if you have a short time t...</td>\n",
       "      <td>Duolingo - Language Lessons</td>\n",
       "      <td>1</td>\n",
       "    </tr>\n",
       "    <tr>\n",
       "      <th>3</th>\n",
       "      <td>2022-03-01 15:02:00-07:00</td>\n",
       "      <td>This app has carried my further than any of my...</td>\n",
       "      <td>Duolingo - Language Lessons</td>\n",
       "      <td>1</td>\n",
       "    </tr>\n",
       "    <tr>\n",
       "      <th>4</th>\n",
       "      <td>2022-03-01 14:28:12-07:00</td>\n",
       "      <td>Update it so you don’t have to sign in so you ...</td>\n",
       "      <td>Duolingo - Language Lessons</td>\n",
       "      <td>0</td>\n",
       "    </tr>\n",
       "  </tbody>\n",
       "</table>\n",
       "</div>"
      ],
      "text/plain": [
       "                     updated  \\\n",
       "0  2022-03-01 15:48:24-07:00   \n",
       "1  2022-03-01 15:18:11-07:00   \n",
       "2  2022-03-01 15:11:03-07:00   \n",
       "3  2022-03-01 15:02:00-07:00   \n",
       "4  2022-03-01 14:28:12-07:00   \n",
       "\n",
       "                                             content  \\\n",
       "0  It’s fun, interactive, and all around educatio...   \n",
       "1  Because of Duolingo, I can speak simple senten...   \n",
       "2  Duolingo is s great if you have a short time t...   \n",
       "3  This app has carried my further than any of my...   \n",
       "4  Update it so you don’t have to sign in so you ...   \n",
       "\n",
       "                      app_name  rating  \n",
       "0  Duolingo - Language Lessons       1  \n",
       "1  Duolingo - Language Lessons       1  \n",
       "2  Duolingo - Language Lessons       1  \n",
       "3  Duolingo - Language Lessons       1  \n",
       "4  Duolingo - Language Lessons       0  "
      ]
     },
     "execution_count": 2,
     "metadata": {},
     "output_type": "execute_result"
    }
   ],
   "source": [
    "df = pd.read_csv('datasets/train/final_reviews_train.csv', sep='|')\n",
    "df.head()"
   ]
  },
  {
   "cell_type": "markdown",
   "id": "a790b0cc",
   "metadata": {},
   "source": [
    "Оставим только два необходимых столбца и перемешаем строки с помощью метода `sample`:"
   ]
  },
  {
   "cell_type": "code",
   "execution_count": 3,
   "id": "8c24c7de",
   "metadata": {},
   "outputs": [
    {
     "data": {
      "text/html": [
       "<div>\n",
       "<style scoped>\n",
       "    .dataframe tbody tr th:only-of-type {\n",
       "        vertical-align: middle;\n",
       "    }\n",
       "\n",
       "    .dataframe tbody tr th {\n",
       "        vertical-align: top;\n",
       "    }\n",
       "\n",
       "    .dataframe thead th {\n",
       "        text-align: right;\n",
       "    }\n",
       "</style>\n",
       "<table border=\"1\" class=\"dataframe\">\n",
       "  <thead>\n",
       "    <tr style=\"text-align: right;\">\n",
       "      <th></th>\n",
       "      <th>content</th>\n",
       "      <th>rating</th>\n",
       "    </tr>\n",
       "  </thead>\n",
       "  <tbody>\n",
       "    <tr>\n",
       "      <th>0</th>\n",
       "      <td>It was fun at one point, but it’s odd that win...</td>\n",
       "      <td>0</td>\n",
       "    </tr>\n",
       "    <tr>\n",
       "      <th>1</th>\n",
       "      <td>Waiting on 3rd party to provide access when yo...</td>\n",
       "      <td>0</td>\n",
       "    </tr>\n",
       "    <tr>\n",
       "      <th>2</th>\n",
       "      <td>Fun to play.</td>\n",
       "      <td>1</td>\n",
       "    </tr>\n",
       "    <tr>\n",
       "      <th>3</th>\n",
       "      <td>This app charged me $60 for a monthly subscrip...</td>\n",
       "      <td>0</td>\n",
       "    </tr>\n",
       "    <tr>\n",
       "      <th>4</th>\n",
       "      <td>Where to begin with this update? They were som...</td>\n",
       "      <td>0</td>\n",
       "    </tr>\n",
       "  </tbody>\n",
       "</table>\n",
       "</div>"
      ],
      "text/plain": [
       "                                             content  rating\n",
       "0  It was fun at one point, but it’s odd that win...       0\n",
       "1  Waiting on 3rd party to provide access when yo...       0\n",
       "2                                       Fun to play.       1\n",
       "3  This app charged me $60 for a monthly subscrip...       0\n",
       "4  Where to begin with this update? They were som...       0"
      ]
     },
     "execution_count": 3,
     "metadata": {},
     "output_type": "execute_result"
    }
   ],
   "source": [
    "df = df[['content', 'rating']].sample(frac=1).reset_index(drop=True)\n",
    "df.head()"
   ]
  },
  {
   "cell_type": "markdown",
   "id": "7fdd4018",
   "metadata": {},
   "source": [
    "Разобьем данные на обучающую и тестовую выборки в отношении 80% к 20%:"
   ]
  },
  {
   "cell_type": "code",
   "execution_count": 4,
   "id": "cad7c76a",
   "metadata": {},
   "outputs": [],
   "source": [
    "split = round(len(df) * 0.8)\n",
    "df_train = df[:split]\n",
    "df_test = df[split:]"
   ]
  },
  {
   "cell_type": "markdown",
   "id": "cc53f6e5",
   "metadata": {},
   "source": [
    "##### Построение модели Random Forest Classifier"
   ]
  },
  {
   "cell_type": "markdown",
   "id": "a266b7e5",
   "metadata": {},
   "source": [
    "Воспользуемся библиотекой `sklearn` и загрузим необходимые для дальнейшей работы пакеты:"
   ]
  },
  {
   "cell_type": "code",
   "execution_count": 5,
   "id": "17d8ad6d",
   "metadata": {},
   "outputs": [],
   "source": [
    "# импорт модели\n",
    "from sklearn.ensemble import RandomForestClassifier\n",
    "\n",
    "# импорт метрик для оценки модели\n",
    "from sklearn.metrics import accuracy_score, roc_auc_score, roc_curve\n",
    "\n",
    "# импорт векторизатора для текстовых данных\n",
    "from sklearn.feature_extraction.text import TfidfVectorizer"
   ]
  },
  {
   "cell_type": "markdown",
   "id": "93a9f8dc",
   "metadata": {},
   "source": [
    "С помощью `TfidfVectorizer` преобразуем обучающую и тестовую выборки к необходимой форме:"
   ]
  },
  {
   "cell_type": "code",
   "execution_count": 6,
   "id": "6164681a",
   "metadata": {},
   "outputs": [],
   "source": [
    "vectorizer = TfidfVectorizer()  # создание объекта векторизатора \n",
    "\n",
    "features_train = vectorizer.fit_transform(df_train['content'])  # векторизация обучающей выборки\n",
    "features_test = vectorizer.transform(df_test['content'])        # векторизация тестовой выборки"
   ]
  },
  {
   "cell_type": "markdown",
   "id": "87103d1c",
   "metadata": {},
   "source": [
    "Проинициализируем объект класса `RandomForestClassifier` с гиперпараметрами JKFEKJWFKWEBK:"
   ]
  },
  {
   "cell_type": "code",
   "execution_count": 7,
   "id": "28cdf07b",
   "metadata": {},
   "outputs": [],
   "source": [
    "model_rfc = RandomForestClassifier()"
   ]
  },
  {
   "cell_type": "markdown",
   "id": "90a2aecc",
   "metadata": {},
   "source": [
    "Обучим модель:"
   ]
  },
  {
   "cell_type": "code",
   "execution_count": 8,
   "id": "d4ea5fc1",
   "metadata": {},
   "outputs": [
    {
     "data": {
      "text/plain": [
       "RandomForestClassifier()"
      ]
     },
     "execution_count": 8,
     "metadata": {},
     "output_type": "execute_result"
    }
   ],
   "source": [
    "model_rfc.fit(features_train, df_train['rating'])"
   ]
  },
  {
   "cell_type": "markdown",
   "id": "5d9dd58e",
   "metadata": {},
   "source": [
    "Оценим модель и построим ROC-кривую:"
   ]
  },
  {
   "cell_type": "code",
   "execution_count": 9,
   "id": "a27d1c37",
   "metadata": {},
   "outputs": [
    {
     "data": {
      "image/png": "[encoded data removed]",
      "text/plain": [
       "<Figure size 432x288 with 1 Axes>"
      ]
     },
     "metadata": {
      "needs_background": "light"
     },
     "output_type": "display_data"
    }
   ],
   "source": [
    "pred = model_rfc.predict_proba(features_test)\n",
    "\n",
    "acc = accuracy_score(df_test['rating'], pred[:, 1] > 0.5)\n",
    "auc = roc_auc_score(df_test['rating'], pred[:, 1])\n",
    "fpr, tpr, _ = roc_curve(df_test['rating'], pred[:, 1])\n",
    "\n",
    "plt.plot(fpr, tpr, 'r', linewidth='3')                  # построение ROC-кривой\n",
    "plt.annotate(f'Acc:  {acc:0.2%}', (0.4, 0.6), size=14)  # вывод значения accuracy на графике\n",
    "plt.annotate(f'AUC: {auc:0.2%}', (0.4, 0.5), size=14)   # вывод значения AUC на графике\n",
    "plt.xlabel('Доля ложно-положительных значений')\n",
    "plt.ylabel('Доля истинно-положительных значений')\n",
    "plt.show()"
   ]
  },
  {
   "cell_type": "markdown",
   "id": "0ead7c43",
   "metadata": {},
   "source": [
    "##### Использование Word2Vec для усовершенствования обучения"
   ]
  },
  {
   "cell_type": "markdown",
   "id": "1846e42c",
   "metadata": {},
   "source": []
  },
  {
   "cell_type": "markdown",
   "id": "fab53206",
   "metadata": {},
   "source": [
    "Импортируем инструмент `Word2Vec` из библиотеки `gensim` и загрузим стоп-слова из библиотеки `nltk`:"
   ]
  },
  {
   "cell_type": "code",
   "execution_count": 10,
   "id": "36f753cd",
   "metadata": {},
   "outputs": [
    {
     "name": "stderr",
     "output_type": "stream",
     "text": [
      "[nltk_data] Downloading package stopwords to\n",
      "[nltk_data]     C:\\Users\\amonina\\AppData\\Roaming\\nltk_data...\n",
      "[nltk_data]   Package stopwords is already up-to-date!\n"
     ]
    },
    {
     "data": {
      "text/plain": [
       "True"
      ]
     },
     "execution_count": 10,
     "metadata": {},
     "output_type": "execute_result"
    }
   ],
   "source": [
    "from gensim.models import Word2Vec\n",
    "\n",
    "import nltk\n",
    "nltk.download('stopwords')  # загрузка английских стоп-слов"
   ]
  },
  {
   "cell_type": "markdown",
   "id": "02411b99",
   "metadata": {},
   "source": [
    "Алгоритм `Word2Vec` работает со списками векторизованных слов, а не со строками текста.\n",
    "\n",
    "Создадим список списков слов из обучающего и тестового наборов данных. Для этого избавимся от знаков препинания и стоп-слов в каждом тексте:"
   ]
  },
  {
   "cell_type": "code",
   "execution_count": 11,
   "id": "79312a23",
   "metadata": {},
   "outputs": [
    {
     "name": "stdout",
     "output_type": "stream",
     "text": [
      "['fun', 'point', 'its', 'odd', 'winnings', '5', 'months', 'ago', 'still', 'review', 'yet', 'game', 'requires', 'cash', 'within', '90', 'days', '', 'seems', 'bit', 'scammy', 'also', 'change', 'little', 'game', 'play', 'makes', 'impossible', 'part', 'really']\n"
     ]
    }
   ],
   "source": [
    "pattern = re.compile('[\\W_]+', re.UNICODE)  # регулярное выражение для удаления символов\n",
    "stopwords = nltk.corpus.stopwords.words()   # создание переменной для стоп-слов\n",
    "\n",
    "reviews_train = []\n",
    "for review in df_train['content']:\n",
    "    # добавление слов в список reviews без знаков препинания и стоп-слов\n",
    "    reviews_train.append([\n",
    "        pattern.sub('', w) for w in review.lower().split(' ') if w not in stopwords\n",
    "    ])\n",
    "\n",
    "print(reviews_train[0])"
   ]
  },
  {
   "cell_type": "code",
   "execution_count": 12,
   "id": "089dd197",
   "metadata": {},
   "outputs": [],
   "source": [
    "pattern = re.compile('[\\W_]+', re.UNICODE)\n",
    "stopwords = nltk.corpus.stopwords.words()\n",
    "\n",
    "reviews_test = []\n",
    "for review in df_test['content']:\n",
    "    # добавление слов в список reviews без знаков препинания и стоп-слов\n",
    "    reviews_test.append([\n",
    "        pattern.sub('', w) for w in review.lower().split(' ') if w not in stopwords\n",
    "    ])"
   ]
  },
  {
   "cell_type": "markdown",
   "id": "e4b399ca",
   "metadata": {},
   "source": [
    "После векторизации может оказаться, что слов из текста вообще не осталось, поэтому удалим такие строки из данных:"
   ]
  },
  {
   "cell_type": "code",
   "execution_count": 13,
   "id": "da6cba12",
   "metadata": {},
   "outputs": [
    {
     "data": {
      "text/plain": [
       "[418, 1275, 1721]"
      ]
     },
     "execution_count": 13,
     "metadata": {},
     "output_type": "execute_result"
    }
   ],
   "source": [
    "indices = []\n",
    "for element in reviews_train:\n",
    "    if element == []:\n",
    "        indices.append(reviews_train.index(element))\n",
    "        reviews_train.remove(element)\n",
    "\n",
    "indices  # индексы строк с отсутствующими словами"
   ]
  },
  {
   "cell_type": "code",
   "execution_count": 14,
   "id": "a108004d",
   "metadata": {},
   "outputs": [
    {
     "data": {
      "text/html": [
       "<div>\n",
       "<style scoped>\n",
       "    .dataframe tbody tr th:only-of-type {\n",
       "        vertical-align: middle;\n",
       "    }\n",
       "\n",
       "    .dataframe tbody tr th {\n",
       "        vertical-align: top;\n",
       "    }\n",
       "\n",
       "    .dataframe thead th {\n",
       "        text-align: right;\n",
       "    }\n",
       "</style>\n",
       "<table border=\"1\" class=\"dataframe\">\n",
       "  <thead>\n",
       "    <tr style=\"text-align: right;\">\n",
       "      <th></th>\n",
       "      <th>content</th>\n",
       "      <th>rating</th>\n",
       "    </tr>\n",
       "  </thead>\n",
       "  <tbody>\n",
       "    <tr>\n",
       "      <th>0</th>\n",
       "      <td>It was fun at one point, but it’s odd that win...</td>\n",
       "      <td>0</td>\n",
       "    </tr>\n",
       "    <tr>\n",
       "      <th>1</th>\n",
       "      <td>Waiting on 3rd party to provide access when yo...</td>\n",
       "      <td>0</td>\n",
       "    </tr>\n",
       "    <tr>\n",
       "      <th>2</th>\n",
       "      <td>Fun to play.</td>\n",
       "      <td>1</td>\n",
       "    </tr>\n",
       "    <tr>\n",
       "      <th>3</th>\n",
       "      <td>This app charged me $60 for a monthly subscrip...</td>\n",
       "      <td>0</td>\n",
       "    </tr>\n",
       "    <tr>\n",
       "      <th>4</th>\n",
       "      <td>Where to begin with this update? They were som...</td>\n",
       "      <td>0</td>\n",
       "    </tr>\n",
       "    <tr>\n",
       "      <th>...</th>\n",
       "      <td>...</td>\n",
       "      <td>...</td>\n",
       "    </tr>\n",
       "    <tr>\n",
       "      <th>3240</th>\n",
       "      <td>My old brain is waking up!</td>\n",
       "      <td>1</td>\n",
       "    </tr>\n",
       "    <tr>\n",
       "      <th>3241</th>\n",
       "      <td>UGH. So we canceled cable last week hoping tha...</td>\n",
       "      <td>0</td>\n",
       "    </tr>\n",
       "    <tr>\n",
       "      <th>3242</th>\n",
       "      <td>It is amazing for beginners but the word trans...</td>\n",
       "      <td>1</td>\n",
       "    </tr>\n",
       "    <tr>\n",
       "      <th>3243</th>\n",
       "      <td>I seen that epic has ghost stories, disappeare...</td>\n",
       "      <td>0</td>\n",
       "    </tr>\n",
       "    <tr>\n",
       "      <th>3244</th>\n",
       "      <td>i love playing this game and i’m close to fini...</td>\n",
       "      <td>1</td>\n",
       "    </tr>\n",
       "  </tbody>\n",
       "</table>\n",
       "<p>3245 rows × 2 columns</p>\n",
       "</div>"
      ],
      "text/plain": [
       "                                                content  rating\n",
       "0     It was fun at one point, but it’s odd that win...       0\n",
       "1     Waiting on 3rd party to provide access when yo...       0\n",
       "2                                          Fun to play.       1\n",
       "3     This app charged me $60 for a monthly subscrip...       0\n",
       "4     Where to begin with this update? They were som...       0\n",
       "...                                                 ...     ...\n",
       "3240                         My old brain is waking up!       1\n",
       "3241  UGH. So we canceled cable last week hoping tha...       0\n",
       "3242  It is amazing for beginners but the word trans...       1\n",
       "3243  I seen that epic has ghost stories, disappeare...       0\n",
       "3244  i love playing this game and i’m close to fini...       1\n",
       "\n",
       "[3245 rows x 2 columns]"
      ]
     },
     "execution_count": 14,
     "metadata": {},
     "output_type": "execute_result"
    }
   ],
   "source": [
    "# удаление строк из обучающего датафрейма\n",
    "df_train = df_train.drop(indices)\n",
    "df_train.reset_index(drop=True)"
   ]
  },
  {
   "cell_type": "code",
   "execution_count": 15,
   "id": "f81dfb99",
   "metadata": {},
   "outputs": [
    {
     "data": {
      "text/plain": [
       "[]"
      ]
     },
     "execution_count": 15,
     "metadata": {},
     "output_type": "execute_result"
    }
   ],
   "source": [
    "# удаление пустых списков слов из тестового датафрейма\n",
    "indices_2 = []\n",
    "for element in reviews_test:\n",
    "    if element == []:\n",
    "        indices_2.append(reviews_test.index(element))\n",
    "        reviews_test.remove(element)\n",
    "\n",
    "indices_2"
   ]
  },
  {
   "cell_type": "code",
   "execution_count": 16,
   "id": "5fb7f447",
   "metadata": {},
   "outputs": [
    {
     "data": {
      "text/html": [
       "<div>\n",
       "<style scoped>\n",
       "    .dataframe tbody tr th:only-of-type {\n",
       "        vertical-align: middle;\n",
       "    }\n",
       "\n",
       "    .dataframe tbody tr th {\n",
       "        vertical-align: top;\n",
       "    }\n",
       "\n",
       "    .dataframe thead th {\n",
       "        text-align: right;\n",
       "    }\n",
       "</style>\n",
       "<table border=\"1\" class=\"dataframe\">\n",
       "  <thead>\n",
       "    <tr style=\"text-align: right;\">\n",
       "      <th></th>\n",
       "      <th>content</th>\n",
       "      <th>rating</th>\n",
       "    </tr>\n",
       "  </thead>\n",
       "  <tbody>\n",
       "    <tr>\n",
       "      <th>0</th>\n",
       "      <td>It’s so frustrating every time I want to get o...</td>\n",
       "      <td>0</td>\n",
       "    </tr>\n",
       "    <tr>\n",
       "      <th>1</th>\n",
       "      <td>You need to fix the flaws we complained about ...</td>\n",
       "      <td>0</td>\n",
       "    </tr>\n",
       "    <tr>\n",
       "      <th>2</th>\n",
       "      <td>I’ve been using this metronome app for about 6...</td>\n",
       "      <td>1</td>\n",
       "    </tr>\n",
       "    <tr>\n",
       "      <th>3</th>\n",
       "      <td>I have been using SpanishDict for about four y...</td>\n",
       "      <td>1</td>\n",
       "    </tr>\n",
       "    <tr>\n",
       "      <th>4</th>\n",
       "      <td>Best app to have on your starting Sophomore ho...</td>\n",
       "      <td>1</td>\n",
       "    </tr>\n",
       "    <tr>\n",
       "      <th>...</th>\n",
       "      <td>...</td>\n",
       "      <td>...</td>\n",
       "    </tr>\n",
       "    <tr>\n",
       "      <th>807</th>\n",
       "      <td>Very cool!</td>\n",
       "      <td>1</td>\n",
       "    </tr>\n",
       "    <tr>\n",
       "      <th>808</th>\n",
       "      <td>This app is amazing for all ages. There are so...</td>\n",
       "      <td>1</td>\n",
       "    </tr>\n",
       "    <tr>\n",
       "      <th>809</th>\n",
       "      <td>Perfect for individual groups and even school ...</td>\n",
       "      <td>1</td>\n",
       "    </tr>\n",
       "    <tr>\n",
       "      <th>810</th>\n",
       "      <td>I took the plunge and signed up for the paid v...</td>\n",
       "      <td>0</td>\n",
       "    </tr>\n",
       "    <tr>\n",
       "      <th>811</th>\n",
       "      <td>Hi your brain pop videon a rev TB .</td>\n",
       "      <td>1</td>\n",
       "    </tr>\n",
       "  </tbody>\n",
       "</table>\n",
       "<p>812 rows × 2 columns</p>\n",
       "</div>"
      ],
      "text/plain": [
       "                                               content  rating\n",
       "0    It’s so frustrating every time I want to get o...       0\n",
       "1    You need to fix the flaws we complained about ...       0\n",
       "2    I’ve been using this metronome app for about 6...       1\n",
       "3    I have been using SpanishDict for about four y...       1\n",
       "4    Best app to have on your starting Sophomore ho...       1\n",
       "..                                                 ...     ...\n",
       "807                                         Very cool!       1\n",
       "808  This app is amazing for all ages. There are so...       1\n",
       "809  Perfect for individual groups and even school ...       1\n",
       "810  I took the plunge and signed up for the paid v...       0\n",
       "811                Hi your brain pop videon a rev TB .       1\n",
       "\n",
       "[812 rows x 2 columns]"
      ]
     },
     "execution_count": 16,
     "metadata": {},
     "output_type": "execute_result"
    }
   ],
   "source": [
    "df_test = df_test.drop(index=indices_2)\n",
    "df_test.reset_index(drop=True)"
   ]
  },
  {
   "cell_type": "markdown",
   "id": "3487ada9",
   "metadata": {},
   "source": [
    "Создадим модель `Word2Vec` с гиперпараметрами ЛОЛАПЦПАШ и сохраним её:"
   ]
  },
  {
   "cell_type": "code",
   "execution_count": 24,
   "id": "76bceed9",
   "metadata": {},
   "outputs": [],
   "source": [
    "w2v = Word2Vec(\n",
    "    vector_size=500, window=20, negative=10, alpha=0.03,\n",
    "    min_alpha=0.0007, min_count=10, sample=1e-3\n",
    ")\n",
    "w2v.build_vocab(reviews_train)\n",
    "w2v.train(\n",
    "    reviews_train, total_examples=w2v.corpus_count,\n",
    "    epochs=30, report_delay=1\n",
    ")\n",
    "w2v.save('w2v_model/w2v.model')"
   ]
  },
  {
   "cell_type": "markdown",
   "id": "cd49f425",
   "metadata": {},
   "source": [
    "Воспользуемся моделью `w2v` и преобразуем обзоры в векторы признаков:"
   ]
  },
  {
   "cell_type": "code",
   "execution_count": 25,
   "id": "1201ecf5",
   "metadata": {},
   "outputs": [],
   "source": [
    "w2v = Word2Vec.load('w2v_model/w2v.model')"
   ]
  },
  {
   "cell_type": "code",
   "execution_count": 26,
   "id": "6bc80134",
   "metadata": {},
   "outputs": [
    {
     "data": {
      "text/plain": [
       "-0.15200148052924004"
      ]
     },
     "execution_count": 26,
     "metadata": {},
     "output_type": "execute_result"
    }
   ],
   "source": [
    "features_train_w2v = np.zeros((len(reviews_train), w2v.vector_size))\n",
    "\n",
    "for i, review in enumerate(reviews_train):\n",
    "    for word in review:\n",
    "        try:\n",
    "            vec = w2v.wv[word]\n",
    "        except KeyError:\n",
    "            continue\n",
    "        features_train_w2v[i, :] += vec\n",
    "    features_train_w2v[i, :] /= len(review)\n",
    "\n",
    "features_train_w2v[0][299]"
   ]
  },
  {
   "cell_type": "code",
   "execution_count": 27,
   "id": "06c139d3",
   "metadata": {},
   "outputs": [],
   "source": [
    "features_test_w2v = np.zeros((len(reviews_test), w2v.vector_size))\n",
    "\n",
    "for i, review in enumerate(reviews_test):\n",
    "    for word in review:\n",
    "        try:\n",
    "            vec = w2v.wv[word]\n",
    "        except KeyError:\n",
    "            continue\n",
    "        features_test_w2v[i, :] += vec\n",
    "    features_test_w2v[i, :] /= len(review)"
   ]
  },
  {
   "cell_type": "markdown",
   "id": "d28d7ad2",
   "metadata": {},
   "source": [
    "Обучим модель `RandomForestClassifier` на основе векторизованных с помощью `Word2Vec` обзоров:"
   ]
  },
  {
   "cell_type": "code",
   "execution_count": 28,
   "id": "d3132ba7",
   "metadata": {},
   "outputs": [
    {
     "data": {
      "image/png": "[encoded data removed]",
      "text/plain": [
       "<Figure size 432x288 with 1 Axes>"
      ]
     },
     "metadata": {
      "needs_background": "light"
     },
     "output_type": "display_data"
    }
   ],
   "source": [
    "model_rfc_w2v = RandomForestClassifier(n_estimators=1000, n_jobs=-1)\n",
    "model_rfc_w2v.fit(features_train_w2v, df_train['rating'])\n",
    "\n",
    "pred_2 = model_rfc_w2v.predict_proba(features_test_w2v)\n",
    "\n",
    "acc = accuracy_score(df_test['rating'], pred[:, 1] > 0.5)\n",
    "auc = roc_auc_score(df_test['rating'], pred[:, 1])\n",
    "fpr, tpr, _ = roc_curve(df_test['rating'], pred[:, 1])\n",
    "\n",
    "plt.plot(fpr, tpr, 'r', linewidth='3', label='tf-idf')\n",
    "\n",
    "plt.annotate(f'TF-IDF_Acc:  {acc:0.2%}', (0.3, 0.6), size=14)\n",
    "plt.annotate(f'TF-IDF_AUC: {auc:0.2%}', (0.3, 0.5), size=14)\n",
    "\n",
    "acc_2 = accuracy_score(df_test['rating'], pred_2[:, 1] > 0.5)\n",
    "auc_2 = roc_auc_score(df_test['rating'], pred_2[:, 1])\n",
    "fpr_2, tpr_2, _ = roc_curve(df_test['rating'], pred_2[:, 1])\n",
    "\n",
    "plt.plot(fpr_2, tpr_2, 'g', linewidth='3', label='word2vec')\n",
    "\n",
    "plt.annotate(f'W2V_Acc:  {acc_2:0.2%}', (0.3, 0.4), size=14)\n",
    "plt.annotate(f'W2V_AUC: {auc_2:0.2%}', (0.3, 0.3), size=14)\n",
    "\n",
    "plt.xlabel('Доля ложно-положительных значений')\n",
    "plt.ylabel('Доля истинно-положительных значений')\n",
    "plt.legend()\n",
    "plt.show()"
   ]
  },
  {
   "cell_type": "markdown",
   "id": "f253ec39",
   "metadata": {},
   "source": [
    "#### Использование модели сверточной нейронной сети (CNN)"
   ]
  },
  {
   "cell_type": "markdown",
   "id": "e0b1aa04",
   "metadata": {},
   "source": [
    "Для классификации данных воспользуемся сверточной нейронной сетью, создаваемую и обучаемую с помощью конвейера spaCy."
   ]
  },
  {
   "cell_type": "markdown",
   "id": "aa2abedb",
   "metadata": {},
   "source": [
    "##### Подготовка данных для модели"
   ]
  },
  {
   "cell_type": "markdown",
   "id": "4c39e9c4",
   "metadata": {},
   "source": [
    "Для обучение сверточной нейронной сети spaCy необходимо преобразовать данные в список кортежей вида:\n",
    "\n",
    "```\n",
    "(\n",
    "    'Текст отзыва',\n",
    "    {'cats':\n",
    "        {'pos': True/False,\n",
    "         'neg': True/False}\n",
    "    }\n",
    ")\n",
    "```\n",
    "\n",
    "где `cats` - метка категории отзыва (`pos` - позитивный отзыв, `neg` - негативный отзыв)"
   ]
  },
  {
   "cell_type": "markdown",
   "id": "28fc5cf4",
   "metadata": {},
   "source": [
    "Загрузим данные из сохраненного ранее датасета и создадим список с необходимыми кортежами:"
   ]
  },
  {
   "cell_type": "code",
   "execution_count": 3,
   "id": "b708628a",
   "metadata": {},
   "outputs": [
    {
     "data": {
      "text/html": [
       "<div>\n",
       "<style scoped>\n",
       "    .dataframe tbody tr th:only-of-type {\n",
       "        vertical-align: middle;\n",
       "    }\n",
       "\n",
       "    .dataframe tbody tr th {\n",
       "        vertical-align: top;\n",
       "    }\n",
       "\n",
       "    .dataframe thead th {\n",
       "        text-align: right;\n",
       "    }\n",
       "</style>\n",
       "<table border=\"1\" class=\"dataframe\">\n",
       "  <thead>\n",
       "    <tr style=\"text-align: right;\">\n",
       "      <th></th>\n",
       "      <th>updated</th>\n",
       "      <th>content</th>\n",
       "      <th>app_name</th>\n",
       "      <th>rating</th>\n",
       "    </tr>\n",
       "  </thead>\n",
       "  <tbody>\n",
       "    <tr>\n",
       "      <th>0</th>\n",
       "      <td>2022-03-01 15:48:24-07:00</td>\n",
       "      <td>It’s fun, interactive, and all around educatio...</td>\n",
       "      <td>Duolingo - Language Lessons</td>\n",
       "      <td>1</td>\n",
       "    </tr>\n",
       "    <tr>\n",
       "      <th>1</th>\n",
       "      <td>2022-03-01 15:18:11-07:00</td>\n",
       "      <td>Because of Duolingo, I can speak simple senten...</td>\n",
       "      <td>Duolingo - Language Lessons</td>\n",
       "      <td>1</td>\n",
       "    </tr>\n",
       "    <tr>\n",
       "      <th>2</th>\n",
       "      <td>2022-03-01 15:11:03-07:00</td>\n",
       "      <td>Duolingo is s great if you have a short time t...</td>\n",
       "      <td>Duolingo - Language Lessons</td>\n",
       "      <td>1</td>\n",
       "    </tr>\n",
       "    <tr>\n",
       "      <th>3</th>\n",
       "      <td>2022-03-01 15:02:00-07:00</td>\n",
       "      <td>This app has carried my further than any of my...</td>\n",
       "      <td>Duolingo - Language Lessons</td>\n",
       "      <td>1</td>\n",
       "    </tr>\n",
       "    <tr>\n",
       "      <th>4</th>\n",
       "      <td>2022-03-01 14:28:12-07:00</td>\n",
       "      <td>Update it so you don’t have to sign in so you ...</td>\n",
       "      <td>Duolingo - Language Lessons</td>\n",
       "      <td>0</td>\n",
       "    </tr>\n",
       "  </tbody>\n",
       "</table>\n",
       "</div>"
      ],
      "text/plain": [
       "                     updated  \\\n",
       "0  2022-03-01 15:48:24-07:00   \n",
       "1  2022-03-01 15:18:11-07:00   \n",
       "2  2022-03-01 15:11:03-07:00   \n",
       "3  2022-03-01 15:02:00-07:00   \n",
       "4  2022-03-01 14:28:12-07:00   \n",
       "\n",
       "                                             content  \\\n",
       "0  It’s fun, interactive, and all around educatio...   \n",
       "1  Because of Duolingo, I can speak simple senten...   \n",
       "2  Duolingo is s great if you have a short time t...   \n",
       "3  This app has carried my further than any of my...   \n",
       "4  Update it so you don’t have to sign in so you ...   \n",
       "\n",
       "                      app_name  rating  \n",
       "0  Duolingo - Language Lessons       1  \n",
       "1  Duolingo - Language Lessons       1  \n",
       "2  Duolingo - Language Lessons       1  \n",
       "3  Duolingo - Language Lessons       1  \n",
       "4  Duolingo - Language Lessons       0  "
      ]
     },
     "execution_count": 3,
     "metadata": {},
     "output_type": "execute_result"
    }
   ],
   "source": [
    "df = pd.read_csv('datasets/train/final_reviews_train.csv', sep='|')\n",
    "df.head()"
   ]
  },
  {
   "cell_type": "code",
   "execution_count": null,
   "id": "9d13dd1b",
   "metadata": {},
   "outputs": [
    {
     "name": "stdout",
     "output_type": "stream",
     "text": [
      "Fitting 5 folds for each of 6 candidates, totalling 30 fits\n"
     ]
    }
   ],
   "source": [
    "clf = GridSearchCV(\n",
    "    param_grid[1]['classifier'][0], param_grid=param_grid[1], cv=5, verbose=True, n_jobs=-1\n",
    ")\n",
    "clf.fit(features_train_w2v, target_train)\n",
    "cv_results = pd.DataFrame(clf.cv_results_)\n",
    "cv_results"
   ]
  },
  {
   "cell_type": "code",
   "execution_count": 9,
   "id": "11002a30",
   "metadata": {},
   "outputs": [
    {
     "data": {
      "text/plain": [
       "('It’s fun, interactive, and all around educational while learning more than expected! I start my day with my little green owl and add a lesson or two before heading to bed!',\n",
       " {'cats': {'pos': True, 'neg': False}})"
      ]
     },
     "execution_count": 9,
     "metadata": {},
     "output_type": "execute_result"
    }
   ],
   "source": [
    "custom_reviews = []\n",
    "for _, row in df[['content', 'rating']].iterrows():\n",
    "    spacy_label = {\n",
    "        'cats': {\n",
    "            'pos': row['rating'] == 1,\n",
    "            'neg': row['rating'] == 0\n",
    "        }\n",
    "    }\n",
    "    custom_reviews.append((row['content'], spacy_label))\n",
    "\n",
    "custom_reviews[0]"
   ]
  },
  {
   "cell_type": "markdown",
   "id": "63a2bfed",
   "metadata": {},
   "source": [
    "Перетасуем полученный список отзывов с метками, используя функцию `shuffle`:"
   ]
  },
  {
   "cell_type": "code",
   "execution_count": 11,
   "id": "57751d7f",
   "metadata": {},
   "outputs": [
    {
     "data": {
      "text/plain": [
       "('yuh i love this app sm i probably would have failed my history and german classes so ty quizlet- stream the blessed-cursed mv by enhypen no harm in doing so…maybe even take an enhypen quiz on quizlet ‼',\n",
       " {'cats': {'pos': True, 'neg': False}})"
      ]
     },
     "execution_count": 11,
     "metadata": {},
     "output_type": "execute_result"
    }
   ],
   "source": [
    "from random import shuffle\n",
    "\n",
    "shuffle(custom_reviews)\n",
    "\n",
    "custom_reviews[0]"
   ]
  },
  {
   "cell_type": "markdown",
   "id": "033f2553",
   "metadata": {},
   "source": [
    "Разобьем полученные данные на обучающую и тестовую выборки в отношении 80% к 20%:"
   ]
  },
  {
   "cell_type": "code",
   "execution_count": 15,
   "id": "38f89047",
   "metadata": {},
   "outputs": [
    {
     "data": {
      "text/plain": [
       "('Soooooo helpful through middle and high school!',\n",
       " {'cats': {'pos': True, 'neg': False}})"
      ]
     },
     "execution_count": 15,
     "metadata": {},
     "output_type": "execute_result"
    }
   ],
   "source": [
    "split = round(len(custom_reviews) * 0.8) # получаем границу разбиения исходных данных\n",
    "train_data = custom_reviews[:split]\n",
    "test_data = custom_reviews[split:]\n",
    "\n",
    "test_data[0]"
   ]
  },
  {
   "cell_type": "markdown",
   "id": "a1701a3e",
   "metadata": {},
   "source": [
    "##### Обучение модели"
   ]
  },
  {
   "cell_type": "markdown",
   "id": "bea79301",
   "metadata": {},
   "source": [
    "Испортируем все необходимые модули:"
   ]
  },
  {
   "cell_type": "code",
   "execution_count": 144,
   "id": "960de0ab",
   "metadata": {},
   "outputs": [],
   "source": [
    "import spacy\n",
    "from spacy.util import minibatch, compounding\n",
    "from spacy.pipeline.textcat import Config, single_label_cnn_config\n",
    "from spacy.training.example import Example"
   ]
  },
  {
   "cell_type": "markdown",
   "id": "b5d64352",
   "metadata": {},
   "source": [
    "Обучение предполагается запустить несколько раз. На каждой итерации будем оценивать прогресс обучения модели с помощью матрицы ошибок и метрик Precision, Recall и F-score, используя следующую функцию:"
   ]
  },
  {
   "cell_type": "code",
   "execution_count": 20,
   "id": "7960c978",
   "metadata": {},
   "outputs": [],
   "source": [
    "def evaluate_model(tokenizer, textcat, test_data):\n",
    "    reviews, labels = zip(*test_data)                    # разделим отзывы и их метки в отдельные переменные\n",
    "    reviews = (tokenizer(review) for review in reviews)  # токенизируем отзывы\n",
    "    \n",
    "    # зададим начальные значения для значений матрицы ошибок\n",
    "    # TP не 0, а малое число, чтобы в знаменателе не оказался 0\n",
    "    TP, FP, TN, FN = 1e-8, 0, 0, 0 \n",
    "    \n",
    "    # пройдем циклом по отзывам и подсчитаем значения TP, FP, TN, FN\n",
    "    for i, review in enumerate(textcat.pipe(reviews)):\n",
    "        true_label = labels[i]['cats']\n",
    "        score_pos = review.cats['pos'] \n",
    "        if true_label['pos']:\n",
    "            if score_pos >= 0.5:\n",
    "                TP += 1\n",
    "            else:\n",
    "                FN += 1\n",
    "        else:\n",
    "            if score_pos >= 0.5:\n",
    "                FP += 1\n",
    "            else:\n",
    "                TN += 1\n",
    "\n",
    "    # подсчитаем метрики\n",
    "    precision = TP / (TP + FP)\n",
    "    recall = TP / (TP + FN)\n",
    "    f_score = 2 * precision * recall / (precision + recall)\n",
    "    \n",
    "    # получим результат для каждой итерации обучения модели\n",
    "    return {'precision': precision, 'recall': recall, 'f-score': f_score}"
   ]
  },
  {
   "cell_type": "markdown",
   "id": "f4cf502c",
   "metadata": {},
   "source": [
    "Загрузим конвейер `en` и добавим ему компоненту `textcat`:"
   ]
  },
  {
   "cell_type": "code",
   "execution_count": 32,
   "id": "77a1189c",
   "metadata": {},
   "outputs": [
    {
     "data": {
      "text/plain": [
       "1"
      ]
     },
     "execution_count": 32,
     "metadata": {},
     "output_type": "execute_result"
    }
   ],
   "source": [
    "nlp = spacy.blank('en')                              # загрузка встроенного конвейера en\n",
    "config = Config().from_str(single_label_cnn_config)  # использование конфигурации для CNN\n",
    "\n",
    "# добавление компоненты textcat (категория текста - позитивная или негативная)\n",
    "# если она отсутствует\n",
    "if 'textcat' not in nlp.pipe_names:\n",
    "    nlp.add_pipe('textcat', config=config, last=True)\n",
    "\n",
    "# добавление меток текста, которые есть в данных\n",
    "textcat = nlp.get_pipe('textcat')\n",
    "textcat.add_label('pos')\n",
    "textcat.add_label('neg')"
   ]
  },
  {
   "cell_type": "markdown",
   "id": "09d56a79",
   "metadata": {},
   "source": [
    "Обучим модель 20 раз:"
   ]
  },
  {
   "cell_type": "code",
   "execution_count": 33,
   "id": "b70d4bcc",
   "metadata": {},
   "outputs": [
    {
     "name": "stdout",
     "output_type": "stream",
     "text": [
      "Начинаем обучение\n",
      "Loss\t\tPrec.\tRec.\tF-score\n",
      "1303.946233\t0.965\t0.561\t0.709\n",
      "857.231039\t0.672\t0.943\t0.785\n",
      "663.083819\t0.810\t0.858\t0.833\n",
      "534.612201\t0.872\t0.764\t0.815\n",
      "409.523773\t0.788\t0.876\t0.830\n",
      "288.572687\t0.893\t0.666\t0.763\n",
      "240.386732\t0.857\t0.755\t0.803\n",
      "203.613020\t0.873\t0.753\t0.808\n",
      "199.596711\t0.873\t0.677\t0.763\n",
      "169.481751\t0.892\t0.703\t0.786\n",
      "145.488750\t0.802\t0.817\t0.810\n",
      "123.866145\t0.794\t0.803\t0.799\n",
      "102.399415\t0.861\t0.737\t0.794\n",
      "92.856736\t0.837\t0.751\t0.791\n",
      "107.598849\t0.836\t0.808\t0.822\n",
      "80.404068\t0.839\t0.789\t0.814\n",
      "98.049307\t0.766\t0.876\t0.818\n",
      "87.024901\t0.884\t0.735\t0.803\n",
      "69.383179\t0.890\t0.682\t0.772\n",
      "72.473635\t0.880\t0.721\t0.792\n"
     ]
    }
   ],
   "source": [
    "print('Начинаем обучение')\n",
    "print('Loss\\t\\tPrec.\\tRec.\\tF-score')\n",
    "\n",
    "optimizer = nlp.begin_training()  # вызов начальной функции оптимизатора\n",
    "\n",
    "# генератор бесконечной последовательности входных чисел для функции minibatch\n",
    "batch_sizes = compounding(4.0, 32.0, 1.001)\n",
    "\n",
    "for _ in range(20):\n",
    "    loss = {}                   # создание словаря для записи потерь на каждой итерации обучения\n",
    "    random.shuffle(train_data)  # перемешивание данных обучающей выборки перед обучением\n",
    "    \n",
    "    # разбиение обучающей выборки на пакеты разного размера\n",
    "    for batch in minibatch(train_data, size=batch_sizes):\n",
    "        \n",
    "        # обучение на данных пакета\n",
    "        for text, labels in batch:\n",
    "            doc = nlp.make_doc(text)                  # создание Doc из текста отзыва\n",
    "            example = Example.from_dict(doc, labels)  # создание экземпляра из документа и метки\n",
    "            \n",
    "            # обучение модели\n",
    "            nlp.update([example], drop=0.2, sgd=optimizer, losses=loss)\n",
    "    \n",
    "    # оценивание результатов обучения с использованием функции evaluate_model\n",
    "    evaluation_results = evaluate_model(\n",
    "        tokenizer=nlp.tokenizer,\n",
    "        textcat=textcat,\n",
    "        test_data=test_data\n",
    "    )\n",
    "    \n",
    "    # вывод результатов обучения на каждой итерации\n",
    "    print(f'{loss[\"textcat\"]:9.6f}\\t' +\n",
    "          f'{evaluation_results[\"precision\"]:.3f}\\t' +\n",
    "          f'{evaluation_results[\"recall\"]:.3f}\\t' +\n",
    "          f'{evaluation_results[\"f-score\"]:.3f}'\n",
    "    )"
   ]
  },
  {
   "cell_type": "markdown",
   "id": "156504ab",
   "metadata": {},
   "source": [
    "Показатели Precision, Recall и F-score соответственно равны 0.880, 0.721 и 0.792."
   ]
  },
  {
   "cell_type": "markdown",
   "id": "18e97f81",
   "metadata": {},
   "source": [
    "Сохраним обученную модель:"
   ]
  },
  {
   "cell_type": "code",
   "execution_count": 34,
   "id": "65ef5f58",
   "metadata": {},
   "outputs": [],
   "source": [
    "with nlp.use_params(optimizer.averages):\n",
    "    nlp.to_disk('cnn_model')"
   ]
  },
  {
   "cell_type": "markdown",
   "id": "90856ce6",
   "metadata": {},
   "source": [
    "##### Предсказание на реальных данных"
   ]
  },
  {
   "cell_type": "markdown",
   "id": "68e352f1",
   "metadata": {},
   "source": [
    "Загрузим текст для оценки из тестового набора данных:"
   ]
  },
  {
   "cell_type": "code",
   "execution_count": 146,
   "id": "5ce80da3",
   "metadata": {},
   "outputs": [
    {
     "data": {
      "text/plain": [
       "(0,\n",
       " 'So I was doing a lightning round and all it’s giving me is lessons I haven’t done before please help')"
      ]
     },
     "execution_count": 146,
     "metadata": {},
     "output_type": "execute_result"
    }
   ],
   "source": [
    "df_check = pd.read_csv('datasets/check/final_reviews_check.csv', sep='|')\n",
    "text = df_check['content'][0]\n",
    "rating = df_check['rating'][0]\n",
    "rating, text"
   ]
  },
  {
   "cell_type": "markdown",
   "id": "e1e5c369",
   "metadata": {},
   "source": [
    "Загрузим созданную модель и используем её для предсказания тональности текста:"
   ]
  },
  {
   "cell_type": "code",
   "execution_count": 14,
   "id": "02de63b5",
   "metadata": {},
   "outputs": [
    {
     "name": "stdout",
     "output_type": "stream",
     "text": [
      "Текст отзыва: So I was doing a lightning round and all it’s giving me is lessons I haven’t done before please help\n",
      "Реальная оценка: 0 \n",
      "Score_pos: 0.003 | Score_neg: 0.997 | Предсказание: Негативный отзыв\n"
     ]
    }
   ],
   "source": [
    "loaded_model = spacy.load('cnn_model')\n",
    "predict_text = loaded_model(text)\n",
    "\n",
    "score = 'Положительный отзыв' if predict_text.cats['pos'] > predict_text.cats['neg'] else 'Негативный отзыв'\n",
    "\n",
    "print(\n",
    "    f'Текст отзыва: {text}\\n' +\n",
    "    f'Реальная оценка: {rating} \\n' +\n",
    "    f'Score_pos: {predict_text.cats[\"pos\"]:.3f} | ' +\n",
    "    f'Score_neg: {predict_text.cats[\"neg\"]:.3f} | ' +\n",
    "    f'Предсказание: {prediction}'\n",
    ")"
   ]
  },
  {
   "cell_type": "code",
   "execution_count": 150,
   "id": "17a550ac",
   "metadata": {},
   "outputs": [
    {
     "data": {
      "text/plain": [
       "0"
      ]
     },
     "execution_count": 150,
     "metadata": {},
     "output_type": "execute_result"
    }
   ],
   "source": [
    "loaded_model = spacy.load('cnn_model')\n",
    "predicts = []\n",
    "df_check = df_check[:round(len(df_check) * 0.5)]\n",
    "\n",
    "for review in df_check['content']:\n",
    "    predict_text = loaded_model(review)\n",
    "    predicts.append(1 if predict_text.cats['pos'] > predict_text.cats['neg'] else 0)\n",
    "\n",
    "predicts[0]"
   ]
  },
  {
   "cell_type": "code",
   "execution_count": 170,
   "id": "66f8cc7b",
   "metadata": {},
   "outputs": [
    {
     "data": {
      "image/png": "[encoded data removed]",
      "text/plain": [
       "<Figure size 432x288 with 1 Axes>"
      ]
     },
     "metadata": {
      "needs_background": "light"
     },
     "output_type": "display_data"
    }
   ],
   "source": [
    "acc = accuracy_score(df_check['rating'], predicts)\n",
    "auc = roc_auc_score(df_check['rating'], predicts)\n",
    "fpr, tpr, _ = roc_curve(df_check['rating'], predicts)\n",
    "plt.plot(fpr, tpr, 'r', linewidth='3')\n",
    "\n",
    "plt.annotate(f'Acc:  {acc:0.2%}', (0.2, 0.6), size=14)\n",
    "plt.annotate(f'AUC: {auc:0.2%}', (0.2, 0.5), size=14)\n",
    "\n",
    "plt.xlabel('Доля ложно-положительных значений')\n",
    "plt.ylabel('Доля истинно-положительных значений')\n",
    "plt.show()"
   ]
  },
  {
   "cell_type": "markdown",
   "id": "595afd10",
   "metadata": {},
   "source": [
    "## Использованные источники"
   ]
  },
  {
   "cell_type": "markdown",
   "id": "94259b41",
   "metadata": {},
   "source": [
    "1. [Анализ настроений: Первые шаги с библиотекой NLTK на Python](https://realpython.com/python-nltk-sentiment-analysis/#author)\n",
    "1. [«Люблю» и «ненавижу»: анализ эмоциональной окраски текста с помощью Python](https://proglib.io/p/lyublyu-i-nenavizhu-analiz-emocionalnoy-okraski-teksta-s-pomoshchyu-python-2020-11-13)\n",
    "1. [Машинное обучение в реальном мире](https://github.com/brinkar/real-world-machine-learning/blob/master/Chapter%208%20-%20Movie%20Review%20Full%20Example.ipynb)"
   ]
  }
 ],
 "metadata": {
  "kernelspec": {
   "display_name": "sentiment_analysis_venv",
   "language": "python",
   "name": "sentiment_analysis_venv"
  },
  "language_info": {
   "codemirror_mode": {
    "name": "ipython",
    "version": 3
   },
   "file_extension": ".py",
   "mimetype": "text/x-python",
   "name": "python",
   "nbconvert_exporter": "python",
   "pygments_lexer": "ipython3",
   "version": "3.10.0"
  }
 },
 "nbformat": 4,
 "nbformat_minor": 5
}
